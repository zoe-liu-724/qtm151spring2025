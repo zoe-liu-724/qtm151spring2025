{
 "cells": [
  {
   "attachments": {},
   "cell_type": "markdown",
   "metadata": {},
   "source": [
    "# <span style=\"color:darkblue\"> Lecture 12 - Replacing and recoding variables</span>\n",
    "\n",
    "<font size = \"5\">\n",
    "\n",
    "- Starting a new module on **manipulating data**\n",
    "- We will discuss NaNs and how to clean data\n",
    "\n",
    "**Covered so far**\n",
    "\n",
    "1. Python types and controlling flows (if/elif/else)\n",
    "\n",
    "2. Local vs global variables\n",
    "\n",
    "3. Writing and running functions and lambda functions and the apply method\n",
    "\n",
    "4. Subsetting data using queries"
   ]
  },
  {
   "attachments": {},
   "cell_type": "markdown",
   "metadata": {},
   "source": [
    "# <span style=\"color:darkblue\"> I. Import Libraries and Data </span>\n"
   ]
  },
  {
   "attachments": {},
   "cell_type": "markdown",
   "metadata": {},
   "source": [
    "<font size = \"5\">\n",
    "Key libraries"
   ]
  },
  {
   "cell_type": "code",
   "execution_count": 1,
   "metadata": {},
   "outputs": [],
   "source": [
    "import numpy as np\n",
    "import pandas as pd"
   ]
  },
  {
   "attachments": {},
   "cell_type": "markdown",
   "metadata": {},
   "source": [
    "<font size = \"5\">\n",
    "\n",
    "Read dataset on car racing circuits\n",
    "\n",
    "- https://en.wikipedia.org/wiki/Formula_One <br>\n",
    "- [See Data Source](https://www.kaggle.com/datasets/rohanrao/formula-1-world-championship-1950-2020)"
   ]
  },
  {
   "cell_type": "code",
   "execution_count": 2,
   "metadata": {},
   "outputs": [],
   "source": [
    "circuits = pd.read_csv(\"data_raw/circuits.csv\")"
   ]
  },
  {
   "attachments": {},
   "cell_type": "markdown",
   "metadata": {},
   "source": [
    "<font size = \"5\">\n",
    "\n",
    "The dataset \"codebook\" is a table with ...\n",
    "\n",
    "- Key column information\n",
    "- Main things:  Field, Type, and Description\n",
    "\n",
    "<img src=\"figures/codebook_circuits.png\" alt=\"drawing\" width=\"500\"/>\n"
   ]
  },
  {
   "cell_type": "code",
   "execution_count": 3,
   "metadata": {},
   "outputs": [],
   "source": [
    "# The codebook contains basics about the columns\n",
    "\n",
    "# \"Field\" is the name given to the name of the column\n",
    "\n",
    "# \"Type\"  is the variable type (with the number of characters in parenthesis):\n",
    "#         integer (int)\n",
    "#         string (varchar - \"variable character\") \n",
    "#         float (float)\n",
    "\n",
    "# \"Description\" contains a label with the content of the variable"
   ]
  },
  {
   "attachments": {},
   "cell_type": "markdown",
   "metadata": {},
   "source": [
    "<font size = \"5\">\n",
    "\n",
    "Quick Discussion:\n",
    "- What does the \"alt\" column represent?\n",
    "- What does \"varchar(255)\" mean?"
   ]
  },
  {
   "attachments": {},
   "cell_type": "markdown",
   "metadata": {},
   "source": [
    "# <span style=\"color:darkblue\"> II. NaNs </span>\n",
    "\n",
    "<font size = \"5\">\n",
    "\n",
    "- Means \"Not a Number\"\n",
    "- Used to denote missing values"
   ]
  },
  {
   "cell_type": "code",
   "execution_count": 4,
   "metadata": {},
   "outputs": [
    {
     "data": {
      "text/plain": [
       "nan"
      ]
     },
     "execution_count": 4,
     "metadata": {},
     "output_type": "execute_result"
    }
   ],
   "source": [
    "# \"NaNs\" are a special number, available in the \"np\" library\n",
    "\n",
    "np.nan"
   ]
  },
  {
   "attachments": {},
   "cell_type": "markdown",
   "metadata": {},
   "source": [
    "<font size = \"5\">\n",
    "\n",
    "Operations on arrays with NaNs"
   ]
  },
  {
   "cell_type": "code",
   "execution_count": 5,
   "metadata": {},
   "outputs": [
    {
     "name": "stdout",
     "output_type": "stream",
     "text": [
      "[nan  4.  5.]\n",
      "[ nan 0.25 0.2 ]\n",
      "[nan  5.  6.]\n",
      "[nan -3. -4.]\n"
     ]
    }
   ],
   "source": [
    "# Create two array with and without \"NaNs\"\n",
    "# The \"np.array()\" functions converts a list to an array\n",
    "\n",
    "vec_without_nans = np.array([1,1,1])\n",
    "vec_with_nans    = np.array([np.nan,4,5])\n",
    "\n",
    "# When you add the vectors\n",
    "# you will produce a NaN on any entries with \"NaNs\"\n",
    "print(vec_without_nans * vec_with_nans)\n",
    "print(vec_without_nans / vec_with_nans)\n",
    "print(vec_without_nans + vec_with_nans)\n",
    "print(vec_without_nans - vec_with_nans)"
   ]
  },
  {
   "attachments": {},
   "cell_type": "markdown",
   "metadata": {},
   "source": [
    "<font size = \"5\">\n",
    "\n",
    "Summary statistics with NaNs"
   ]
  },
  {
   "cell_type": "code",
   "execution_count": 6,
   "metadata": {},
   "outputs": [
    {
     "name": "stdout",
     "output_type": "stream",
     "text": [
      "nan\n",
      "4.5\n"
     ]
    }
   ],
   "source": [
    "# Some summary statistics will not work if there are \"NaNs\"\n",
    "# The \"np.mean()\" doesn't work if the mean includes \"NaNs\"\n",
    "print(np.mean(vec_with_nans))\n",
    "\n",
    "# Some commands ignore the \"nans\"\n",
    "# The \"np.nanmean()\" computes the mean over the numeric obvservations\n",
    "print(np.nanmean(vec_with_nans))"
   ]
  },
  {
   "attachments": {},
   "cell_type": "markdown",
   "metadata": {},
   "source": [
    "<font size = \"5\">\n",
    "\n",
    "Pandas summary statistics ignore NaNs"
   ]
  },
  {
   "cell_type": "code",
   "execution_count": 7,
   "metadata": {},
   "outputs": [
    {
     "data": {
      "application/vnd.microsoft.datawrangler.viewer.v0+json": {
       "columns": [
        {
         "name": "index",
         "rawType": "int64",
         "type": "integer"
        },
        {
         "name": "x",
         "rawType": "float64",
         "type": "float"
        }
       ],
       "conversionMethod": "pd.DataFrame",
       "ref": "3ef6dc82-38be-446d-b923-5b4e6ae5f29e",
       "rows": [
        [
         "0",
         null
        ],
        [
         "1",
         "4.0"
        ],
        [
         "2",
         "5.0"
        ]
       ],
       "shape": {
        "columns": 1,
        "rows": 3
       }
      },
      "text/html": [
       "<div>\n",
       "<style scoped>\n",
       "    .dataframe tbody tr th:only-of-type {\n",
       "        vertical-align: middle;\n",
       "    }\n",
       "\n",
       "    .dataframe tbody tr th {\n",
       "        vertical-align: top;\n",
       "    }\n",
       "\n",
       "    .dataframe thead th {\n",
       "        text-align: right;\n",
       "    }\n",
       "</style>\n",
       "<table border=\"1\" class=\"dataframe\">\n",
       "  <thead>\n",
       "    <tr style=\"text-align: right;\">\n",
       "      <th></th>\n",
       "      <th>x</th>\n",
       "    </tr>\n",
       "  </thead>\n",
       "  <tbody>\n",
       "    <tr>\n",
       "      <th>0</th>\n",
       "      <td>NaN</td>\n",
       "    </tr>\n",
       "    <tr>\n",
       "      <th>1</th>\n",
       "      <td>4.0</td>\n",
       "    </tr>\n",
       "    <tr>\n",
       "      <th>2</th>\n",
       "      <td>5.0</td>\n",
       "    </tr>\n",
       "  </tbody>\n",
       "</table>\n",
       "</div>"
      ],
      "text/plain": [
       "     x\n",
       "0  NaN\n",
       "1  4.0\n",
       "2  5.0"
      ]
     },
     "execution_count": 7,
     "metadata": {},
     "output_type": "execute_result"
    }
   ],
   "source": [
    "# This command creates an empty dataframe\n",
    "# then creates a new column called \"x\" and computes its mean\n",
    "# Note: If a column contains missing values, then the \"mean\" won't be \n",
    "#       representative of the whole sample\n",
    "\n",
    "dataset = pd.DataFrame()\n",
    "dataset[\"x\"] = vec_with_nans\n",
    "dataset"
   ]
  },
  {
   "cell_type": "code",
   "execution_count": 8,
   "metadata": {},
   "outputs": [
    {
     "data": {
      "text/plain": [
       "4.5"
      ]
     },
     "execution_count": 8,
     "metadata": {},
     "output_type": "execute_result"
    }
   ],
   "source": [
    "dataset[\"x\"].mean()"
   ]
  },
  {
   "attachments": {},
   "cell_type": "markdown",
   "metadata": {},
   "source": [
    "# <span style=\"color:darkblue\"> II. Data Cleaning</span>\n",
    "\n",
    "<font size = \"5\">\n",
    "\n",
    "- Data collection isn't perfect!\n",
    "- Need to adjust values with incorrect formatting"
   ]
  },
  {
   "attachments": {},
   "cell_type": "markdown",
   "metadata": {},
   "source": [
    "<font size = \"5\">\n",
    "Get data types"
   ]
  },
  {
   "cell_type": "code",
   "execution_count": 9,
   "metadata": {},
   "outputs": [
    {
     "data": {
      "text/plain": [
       "circuitId       int64\n",
       "circuitRef     object\n",
       "name           object\n",
       "location       object\n",
       "country        object\n",
       "lat           float64\n",
       "lng           float64\n",
       "alt            object\n",
       "url            object\n",
       "dtype: object"
      ]
     },
     "execution_count": 9,
     "metadata": {},
     "output_type": "execute_result"
    }
   ],
   "source": [
    "# Produces a list with the data types of each column\n",
    "# Columns that say \"object\" have either strings or \n",
    "# a mix of string and numeric values\n",
    "\n",
    "circuits.dtypes"
   ]
  },
  {
   "attachments": {},
   "cell_type": "markdown",
   "metadata": {},
   "source": [
    "<font size = \"5\">\n",
    "\n",
    "Check rows with numeric values"
   ]
  },
  {
   "cell_type": "code",
   "execution_count": 10,
   "metadata": {},
   "outputs": [
    {
     "data": {
      "text/plain": [
       "0      True\n",
       "1      True\n",
       "2      True\n",
       "3      True\n",
       "4      True\n",
       "      ...  \n",
       "72     True\n",
       "73     True\n",
       "74     True\n",
       "75    False\n",
       "76    False\n",
       "Name: alt, Length: 77, dtype: bool"
      ]
     },
     "execution_count": 10,
     "metadata": {},
     "output_type": "execute_result"
    }
   ],
   "source": [
    "# The \".str.isnumeric()\" checks whether each row is numeric or now.\n",
    "# Using the \".\" twice is an example of \"piping\"\n",
    "# which refers to chaining two commands \"str\" and \"isnumeric()\"\n",
    "\n",
    "circuits[\"alt\"].str.isnumeric()"
   ]
  },
  {
   "cell_type": "code",
   "execution_count": 11,
   "metadata": {},
   "outputs": [
    {
     "data": {
      "text/plain": [
       "0        melbourne\n",
       "1     kuala lumpur\n",
       "2           sakhir\n",
       "3         montmeló\n",
       "4         istanbul\n",
       "          ...     \n",
       "72        portimão\n",
       "73         mugello\n",
       "74          jeddah\n",
       "75       al daayen\n",
       "76           miami\n",
       "Name: location, Length: 77, dtype: object"
      ]
     },
     "execution_count": 11,
     "metadata": {},
     "output_type": "execute_result"
    }
   ],
   "source": [
    "circuits['location'].str.lower()"
   ]
  },
  {
   "attachments": {},
   "cell_type": "markdown",
   "metadata": {},
   "source": [
    "<font size = \"5\">\n",
    "\n",
    "Extract list of non-numeric values"
   ]
  },
  {
   "cell_type": "code",
   "execution_count": 12,
   "metadata": {},
   "outputs": [
    {
     "data": {
      "application/vnd.microsoft.datawrangler.viewer.v0+json": {
       "columns": [
        {
         "name": "index",
         "rawType": "int64",
         "type": "integer"
        },
        {
         "name": "circuitId",
         "rawType": "int64",
         "type": "integer"
        },
        {
         "name": "circuitRef",
         "rawType": "object",
         "type": "string"
        },
        {
         "name": "name",
         "rawType": "object",
         "type": "string"
        },
        {
         "name": "location",
         "rawType": "object",
         "type": "string"
        },
        {
         "name": "country",
         "rawType": "object",
         "type": "string"
        },
        {
         "name": "lat",
         "rawType": "float64",
         "type": "float"
        },
        {
         "name": "lng",
         "rawType": "float64",
         "type": "float"
        },
        {
         "name": "alt",
         "rawType": "object",
         "type": "string"
        },
        {
         "name": "url",
         "rawType": "object",
         "type": "string"
        }
       ],
       "conversionMethod": "pd.DataFrame",
       "ref": "b7d4681d-880c-4357-bb39-d6cf17cd4249",
       "rows": [
        [
         "22",
         "80",
         "vegas",
         "Las Vegas Strip Street Circuit",
         "Las Vegas",
         "United States",
         "36.1147",
         "-115.173",
         "\\N",
         "https://en.wikipedia.org/wiki/Las_Vegas_Grand_Prix#Circuit"
        ],
        [
         "71",
         "73",
         "baku",
         "Baku City Circuit",
         "Baku",
         "Azerbaijan",
         "40.3725",
         "49.8533",
         "-7",
         "http://en.wikipedia.org/wiki/Baku_City_Circuit"
        ],
        [
         "75",
         "78",
         "losail",
         "Losail International Circuit",
         "Al Daayen",
         "Qatar",
         "25.49",
         "51.4542",
         "\\N",
         "http://en.wikipedia.org/wiki/Losail_International_Circuit"
        ],
        [
         "76",
         "79",
         "miami",
         "Miami International Autodrome",
         "Miami",
         "USA",
         "25.9581",
         "-80.2389",
         "\\N",
         "http://en.wikipedia.org/wiki/Miami_International_Autodrome"
        ]
       ],
       "shape": {
        "columns": 9,
        "rows": 4
       }
      },
      "text/html": [
       "<div>\n",
       "<style scoped>\n",
       "    .dataframe tbody tr th:only-of-type {\n",
       "        vertical-align: middle;\n",
       "    }\n",
       "\n",
       "    .dataframe tbody tr th {\n",
       "        vertical-align: top;\n",
       "    }\n",
       "\n",
       "    .dataframe thead th {\n",
       "        text-align: right;\n",
       "    }\n",
       "</style>\n",
       "<table border=\"1\" class=\"dataframe\">\n",
       "  <thead>\n",
       "    <tr style=\"text-align: right;\">\n",
       "      <th></th>\n",
       "      <th>circuitId</th>\n",
       "      <th>circuitRef</th>\n",
       "      <th>name</th>\n",
       "      <th>location</th>\n",
       "      <th>country</th>\n",
       "      <th>lat</th>\n",
       "      <th>lng</th>\n",
       "      <th>alt</th>\n",
       "      <th>url</th>\n",
       "    </tr>\n",
       "  </thead>\n",
       "  <tbody>\n",
       "    <tr>\n",
       "      <th>22</th>\n",
       "      <td>80</td>\n",
       "      <td>vegas</td>\n",
       "      <td>Las Vegas Strip Street Circuit</td>\n",
       "      <td>Las Vegas</td>\n",
       "      <td>United States</td>\n",
       "      <td>36.1147</td>\n",
       "      <td>-115.1730</td>\n",
       "      <td>\\N</td>\n",
       "      <td>https://en.wikipedia.org/wiki/Las_Vegas_Grand_...</td>\n",
       "    </tr>\n",
       "    <tr>\n",
       "      <th>71</th>\n",
       "      <td>73</td>\n",
       "      <td>baku</td>\n",
       "      <td>Baku City Circuit</td>\n",
       "      <td>Baku</td>\n",
       "      <td>Azerbaijan</td>\n",
       "      <td>40.3725</td>\n",
       "      <td>49.8533</td>\n",
       "      <td>-7</td>\n",
       "      <td>http://en.wikipedia.org/wiki/Baku_City_Circuit</td>\n",
       "    </tr>\n",
       "    <tr>\n",
       "      <th>75</th>\n",
       "      <td>78</td>\n",
       "      <td>losail</td>\n",
       "      <td>Losail International Circuit</td>\n",
       "      <td>Al Daayen</td>\n",
       "      <td>Qatar</td>\n",
       "      <td>25.4900</td>\n",
       "      <td>51.4542</td>\n",
       "      <td>\\N</td>\n",
       "      <td>http://en.wikipedia.org/wiki/Losail_Internatio...</td>\n",
       "    </tr>\n",
       "    <tr>\n",
       "      <th>76</th>\n",
       "      <td>79</td>\n",
       "      <td>miami</td>\n",
       "      <td>Miami International Autodrome</td>\n",
       "      <td>Miami</td>\n",
       "      <td>USA</td>\n",
       "      <td>25.9581</td>\n",
       "      <td>-80.2389</td>\n",
       "      <td>\\N</td>\n",
       "      <td>http://en.wikipedia.org/wiki/Miami_Internation...</td>\n",
       "    </tr>\n",
       "  </tbody>\n",
       "</table>\n",
       "</div>"
      ],
      "text/plain": [
       "    circuitId circuitRef                            name   location  \\\n",
       "22         80      vegas  Las Vegas Strip Street Circuit  Las Vegas   \n",
       "71         73       baku               Baku City Circuit       Baku   \n",
       "75         78     losail    Losail International Circuit  Al Daayen   \n",
       "76         79      miami   Miami International Autodrome      Miami   \n",
       "\n",
       "          country      lat       lng alt  \\\n",
       "22  United States  36.1147 -115.1730  \\N   \n",
       "71     Azerbaijan  40.3725   49.8533  -7   \n",
       "75          Qatar  25.4900   51.4542  \\N   \n",
       "76            USA  25.9581  -80.2389  \\N   \n",
       "\n",
       "                                                  url  \n",
       "22  https://en.wikipedia.org/wiki/Las_Vegas_Grand_...  \n",
       "71     http://en.wikipedia.org/wiki/Baku_City_Circuit  \n",
       "75  http://en.wikipedia.org/wiki/Losail_Internatio...  \n",
       "76  http://en.wikipedia.org/wiki/Miami_Internation...  "
      ]
     },
     "metadata": {},
     "output_type": "display_data"
    }
   ],
   "source": [
    "# We can reference subattributes of columns in \".query()\"\n",
    "# The pd.unique() function extracts unique values from a list\n",
    "\n",
    "subset = circuits.query(\"  alt.str.isnumeric() == False\"   )\n",
    "display(subset)\n"
   ]
  },
  {
   "cell_type": "code",
   "execution_count": 13,
   "metadata": {},
   "outputs": [
    {
     "name": "stdout",
     "output_type": "stream",
     "text": [
      "['\\\\N' '-7']\n"
     ]
    }
   ],
   "source": [
    "\n",
    "list_unique = pd.unique( subset[\"alt\"] )\n",
    "print(list_unique)"
   ]
  },
  {
   "attachments": {},
   "cell_type": "markdown",
   "metadata": {},
   "source": [
    "<font size = \"5\">\n",
    "\n",
    "Replace certain values"
   ]
  },
  {
   "cell_type": "code",
   "execution_count": 14,
   "metadata": {},
   "outputs": [],
   "source": [
    "# \"list_old\" encodes values we want to change\n",
    "# \"list_new\" encodes the values that will \"replace\" the old\n",
    "list_old = ['\\\\N','-7']\n",
    "list_new = [np.nan, -7]\n",
    "\n",
    "# This command replaces the values of the \"alt\" column\n",
    "circuits[\"alt\"] = circuits[\"alt\"].replace(list_old, list_new)"
   ]
  },
  {
   "attachments": {},
   "cell_type": "markdown",
   "metadata": {},
   "source": [
    "<font size = \"5\">\n",
    "\n",
    "Store a \"cleaned\" dataset"
   ]
  },
  {
   "cell_type": "code",
   "execution_count": 15,
   "metadata": {},
   "outputs": [
    {
     "data": {
      "text/plain": [
       "circuitId       int64\n",
       "circuitRef     object\n",
       "name           object\n",
       "location       object\n",
       "country        object\n",
       "lat           float64\n",
       "lng           float64\n",
       "alt            object\n",
       "url            object\n",
       "dtype: object"
      ]
     },
     "execution_count": 15,
     "metadata": {},
     "output_type": "execute_result"
    }
   ],
   "source": [
    "circuits.dtypes"
   ]
  },
  {
   "cell_type": "code",
   "execution_count": 16,
   "metadata": {},
   "outputs": [],
   "source": [
    "# After the cleaning process is done, you may want to store the dataset again\n",
    "# It's recommended to do this in a separate file from the original\n",
    "# That way you can always go back to the original if you made a coding error\n",
    "\n",
    "circuits.to_csv(\"data_clean/circuits.csv\")"
   ]
  },
  {
   "attachments": {},
   "cell_type": "markdown",
   "metadata": {},
   "source": [
    "<font size = \"5\">\n",
    "Try it yourself!\n",
    "\n",
    "- Use \".replace()\" with the \"country\" column\n",
    "- Replace \"USA\" with \"United States\""
   ]
  },
  {
   "cell_type": "code",
   "execution_count": 17,
   "metadata": {},
   "outputs": [],
   "source": [
    "# Write your own code\n",
    "\n",
    "circuits[\"country\"] = circuits[\"country\"].replace(\"USA\",\"United States\")\n",
    "\n",
    "\n"
   ]
  },
  {
   "attachments": {},
   "cell_type": "markdown",
   "metadata": {},
   "source": [
    "<font size = \"5\">\n",
    "Try it yourself!\n",
    "\n",
    "- What is the column type of \"lat\" or \"lng\"?\n",
    "- Does it have any string variables?\n",
    "- Can we use ```str.isnumeric()``` here?"
   ]
  },
  {
   "cell_type": "code",
   "execution_count": 18,
   "metadata": {},
   "outputs": [
    {
     "name": "stdout",
     "output_type": "stream",
     "text": [
      "float64\n",
      "float64\n"
     ]
    }
   ],
   "source": [
    "# Write your own code\n",
    "\n",
    "print(circuits[\"lat\"].dtype)\n",
    "print(circuits[\"lng\"].dtype)\n",
    "\n",
    "# No string value because all the values are nunmeric\n",
    "\n",
    "# Cannot use str.isnumeric() because variable is numeric\n",
    "# circuits[\"lng\"].str.isnumeric()\n"
   ]
  },
  {
   "attachments": {},
   "cell_type": "markdown",
   "metadata": {},
   "source": [
    "<font size = \"5\">"
   ]
  },
  {
   "cell_type": "markdown",
   "metadata": {},
   "source": [
    "<font size = \"5\">\n",
    "Try it yourself!\n",
    "\n",
    "- What is the column type of \"country\"?\n",
    "- Does it have any string variables?\n",
    "- Can we use ```str.isnumeric()``` here?"
   ]
  },
  {
   "attachments": {},
   "cell_type": "markdown",
   "metadata": {},
   "source": [
    "# <span style=\"color:darkblue\"> II. Recoding Numeric Variables </span>\n",
    "\n"
   ]
  },
  {
   "attachments": {},
   "cell_type": "markdown",
   "metadata": {},
   "source": [
    "<font size = \"5\">\n",
    "\n",
    "<span style=\"color:red\"> Controlled Pitfall </span> Computing a mean for a non-numeric column"
   ]
  },
  {
   "cell_type": "code",
   "execution_count": 19,
   "metadata": {},
   "outputs": [
    {
     "data": {
      "text/plain": [
       "dtype('O')"
      ]
     },
     "execution_count": 19,
     "metadata": {},
     "output_type": "execute_result"
    }
   ],
   "source": [
    "circuits[\"alt\"].dtype"
   ]
  },
  {
   "attachments": {},
   "cell_type": "markdown",
   "metadata": {},
   "source": [
    "<font size = \"5\">\n",
    "\n",
    "Convert column to numeric"
   ]
  },
  {
   "cell_type": "code",
   "execution_count": 20,
   "metadata": {},
   "outputs": [
    {
     "name": "stdout",
     "output_type": "stream",
     "text": [
      "248.1891891891892\n"
     ]
    }
   ],
   "source": [
    "# pd.to_numeric() converts a column to numeric\n",
    "# Before you use this option, make sure to \"clean\" the variable\n",
    "# as we did before by checking what the non-numeric values are\n",
    "\n",
    "circuits[\"alt_numeric\"] = pd.to_numeric(circuits[\"alt\"])\n",
    "print(circuits[\"alt_numeric\"].mean())"
   ]
  },
  {
   "cell_type": "code",
   "execution_count": 21,
   "metadata": {},
   "outputs": [
    {
     "data": {
      "text/plain": [
       "-7.0"
      ]
     },
     "execution_count": 21,
     "metadata": {},
     "output_type": "execute_result"
    }
   ],
   "source": [
    "circuits[\"alt_numeric\"].min()"
   ]
  },
  {
   "cell_type": "code",
   "execution_count": 22,
   "metadata": {},
   "outputs": [
    {
     "data": {
      "text/plain": [
       "2227.0"
      ]
     },
     "execution_count": 22,
     "metadata": {},
     "output_type": "execute_result"
    }
   ],
   "source": [
    "circuits[\"alt_numeric\"].max()"
   ]
  },
  {
   "attachments": {},
   "cell_type": "markdown",
   "metadata": {},
   "source": [
    "<font size = \"5\">\n",
    "\n",
    "Recode values based on an interval <br>\n",
    "\n",
    "$ \\qquad x_{bin} = \\begin{cases} ``A\" &\\text{ if \\quad} x_1 < x \\le x_2 \\\\\n",
    "                                  ``B\" &\\text{ if \\quad} x_2 < x \\le x_3 \\end{cases} $\n",
    "\n"
   ]
  },
  {
   "cell_type": "code",
   "execution_count": 23,
   "metadata": {},
   "outputs": [],
   "source": [
    "bins_x = [0,2500, 5000]\n",
    "labels_x = [\"Between 0 and 2500\",\n",
    "            \"Between 2500 and 5000\"]\n",
    "\n",
    "circuits[\"bins_alt\"] = pd.cut(circuits[\"alt_numeric\"],\n",
    "                              bins = bins_x,\n",
    "                              right = True,\n",
    "                              labels = labels_x)\n",
    "\n",
    "# Note: if we set bins_x = [float(\"-inf\"),2500, float(\"inf\")]\n",
    "#       then intervals are \"Less than or equal to 2500\" and \"Above 2500\"\n",
    "#       float(\"inf\") and float(\"-inf\") represent infinity and negative infinity\n",
    "#       The \"right\" command indicates that the right interval is\n",
    "#       \"less than or equal to\" or just \"less than\""
   ]
  },
  {
   "attachments": {},
   "cell_type": "markdown",
   "metadata": {},
   "source": [
    "<font size = \"5\">\n",
    "Try it yourself!\n",
    "\n",
    "- Create a new variable \"hemisphere\"\n",
    "- Encode lattitude in (-90 and 0] as \"south\"\n",
    "- Encode lattitude in (0 and 90] as \"north\""
   ]
  },
  {
   "cell_type": "code",
   "execution_count": 30,
   "metadata": {},
   "outputs": [
    {
     "data": {
      "application/vnd.microsoft.datawrangler.viewer.v0+json": {
       "columns": [
        {
         "name": "index",
         "rawType": "int64",
         "type": "integer"
        },
        {
         "name": "circuitId",
         "rawType": "int64",
         "type": "integer"
        },
        {
         "name": "circuitRef",
         "rawType": "object",
         "type": "string"
        },
        {
         "name": "name",
         "rawType": "object",
         "type": "string"
        },
        {
         "name": "location",
         "rawType": "object",
         "type": "string"
        },
        {
         "name": "country",
         "rawType": "object",
         "type": "string"
        },
        {
         "name": "lat",
         "rawType": "float64",
         "type": "float"
        },
        {
         "name": "lng",
         "rawType": "float64",
         "type": "float"
        },
        {
         "name": "alt",
         "rawType": "object",
         "type": "unknown"
        },
        {
         "name": "url",
         "rawType": "object",
         "type": "string"
        },
        {
         "name": "alt_numeric",
         "rawType": "float64",
         "type": "float"
        },
        {
         "name": "bins_alt",
         "rawType": "category",
         "type": "unknown"
        },
        {
         "name": "hemisphere",
         "rawType": "category",
         "type": "unknown"
        }
       ],
       "conversionMethod": "pd.DataFrame",
       "ref": "e5df0dab-a8d8-4665-882f-2ae52592fca3",
       "rows": [
        [
         "0",
         "1",
         "albert_park",
         "Albert Park Grand Prix Circuit",
         "Melbourne",
         "Australia",
         "-37.8497",
         "144.968",
         "10",
         "http://en.wikipedia.org/wiki/Melbourne_Grand_Prix_Circuit",
         "10.0",
         "Between 0 and 2500",
         "south"
        ],
        [
         "1",
         "2",
         "sepang",
         "Sepang International Circuit",
         "Kuala Lumpur",
         "Malaysia",
         "2.76083",
         "101.738",
         "18",
         "http://en.wikipedia.org/wiki/Sepang_International_Circuit",
         "18.0",
         "Between 0 and 2500",
         "north"
        ],
        [
         "2",
         "3",
         "bahrain",
         "Bahrain International Circuit",
         "Sakhir",
         "Bahrain",
         "26.0325",
         "50.5106",
         "7",
         "http://en.wikipedia.org/wiki/Bahrain_International_Circuit",
         "7.0",
         "Between 0 and 2500",
         "north"
        ],
        [
         "3",
         "4",
         "catalunya",
         "Circuit de Barcelona-Catalunya",
         "Montmeló",
         "Spain",
         "41.57",
         "2.26111",
         "109",
         "http://en.wikipedia.org/wiki/Circuit_de_Barcelona-Catalunya",
         "109.0",
         "Between 0 and 2500",
         "north"
        ],
        [
         "4",
         "5",
         "istanbul",
         "Istanbul Park",
         "Istanbul",
         "Turkey",
         "40.9517",
         "29.405",
         "130",
         "http://en.wikipedia.org/wiki/Istanbul_Park",
         "130.0",
         "Between 0 and 2500",
         "north"
        ],
        [
         "5",
         "6",
         "monaco",
         "Circuit de Monaco",
         "Monte-Carlo",
         "Monaco",
         "43.7347",
         "7.42056",
         "7",
         "http://en.wikipedia.org/wiki/Circuit_de_Monaco",
         "7.0",
         "Between 0 and 2500",
         "north"
        ],
        [
         "6",
         "7",
         "villeneuve",
         "Circuit Gilles Villeneuve",
         "Montreal",
         "Canada",
         "45.5",
         "-73.5228",
         "13",
         "http://en.wikipedia.org/wiki/Circuit_Gilles_Villeneuve",
         "13.0",
         "Between 0 and 2500",
         "north"
        ],
        [
         "7",
         "8",
         "magny_cours",
         "Circuit de Nevers Magny-Cours",
         "Magny Cours",
         "France",
         "46.8642",
         "3.16361",
         "228",
         "http://en.wikipedia.org/wiki/Circuit_de_Nevers_Magny-Cours",
         "228.0",
         "Between 0 and 2500",
         "north"
        ],
        [
         "8",
         "9",
         "silverstone",
         "Silverstone Circuit",
         "Silverstone",
         "UK",
         "52.0786",
         "-1.01694",
         "153",
         "http://en.wikipedia.org/wiki/Silverstone_Circuit",
         "153.0",
         "Between 0 and 2500",
         "north"
        ],
        [
         "9",
         "10",
         "hockenheimring",
         "Hockenheimring",
         "Hockenheim",
         "Germany",
         "49.3278",
         "8.56583",
         "103",
         "http://en.wikipedia.org/wiki/Hockenheimring",
         "103.0",
         "Between 0 and 2500",
         "north"
        ],
        [
         "10",
         "11",
         "hungaroring",
         "Hungaroring",
         "Budapest",
         "Hungary",
         "47.5789",
         "19.2486",
         "264",
         "http://en.wikipedia.org/wiki/Hungaroring",
         "264.0",
         "Between 0 and 2500",
         "north"
        ],
        [
         "11",
         "12",
         "valencia",
         "Valencia Street Circuit",
         "Valencia",
         "Spain",
         "39.4589",
         "-0.331667",
         "4",
         "http://en.wikipedia.org/wiki/Valencia_Street_Circuit",
         "4.0",
         "Between 0 and 2500",
         "north"
        ],
        [
         "12",
         "13",
         "spa",
         "Circuit de Spa-Francorchamps",
         "Spa",
         "Belgium",
         "50.4372",
         "5.97139",
         "401",
         "http://en.wikipedia.org/wiki/Circuit_de_Spa-Francorchamps",
         "401.0",
         "Between 0 and 2500",
         "north"
        ],
        [
         "13",
         "14",
         "monza",
         "Autodromo Nazionale di Monza",
         "Monza",
         "Italy",
         "45.6156",
         "9.28111",
         "162",
         "http://en.wikipedia.org/wiki/Autodromo_Nazionale_Monza",
         "162.0",
         "Between 0 and 2500",
         "north"
        ],
        [
         "14",
         "15",
         "marina_bay",
         "Marina Bay Street Circuit",
         "Marina Bay",
         "Singapore",
         "1.2914",
         "103.864",
         "18",
         "http://en.wikipedia.org/wiki/Marina_Bay_Street_Circuit",
         "18.0",
         "Between 0 and 2500",
         "north"
        ],
        [
         "15",
         "16",
         "fuji",
         "Fuji Speedway",
         "Oyama",
         "Japan",
         "35.3717",
         "138.927",
         "583",
         "http://en.wikipedia.org/wiki/Fuji_Speedway",
         "583.0",
         "Between 0 and 2500",
         "north"
        ],
        [
         "16",
         "17",
         "shanghai",
         "Shanghai International Circuit",
         "Shanghai",
         "China",
         "31.3389",
         "121.22",
         "5",
         "http://en.wikipedia.org/wiki/Shanghai_International_Circuit",
         "5.0",
         "Between 0 and 2500",
         "north"
        ],
        [
         "17",
         "18",
         "interlagos",
         "Autódromo José Carlos Pace",
         "São Paulo",
         "Brazil",
         "-23.7036",
         "-46.6997",
         "785",
         "http://en.wikipedia.org/wiki/Aut%C3%B3dromo_Jos%C3%A9_Carlos_Pace",
         "785.0",
         "Between 0 and 2500",
         "south"
        ],
        [
         "18",
         "19",
         "indianapolis",
         "Indianapolis Motor Speedway",
         "Indianapolis",
         "United States",
         "39.795",
         "-86.2347",
         "223",
         "http://en.wikipedia.org/wiki/Indianapolis_Motor_Speedway",
         "223.0",
         "Between 0 and 2500",
         "north"
        ],
        [
         "19",
         "20",
         "nurburgring",
         "Nürburgring",
         "Nürburg",
         "Germany",
         "50.3356",
         "6.9475",
         "578",
         "http://en.wikipedia.org/wiki/N%C3%BCrburgring",
         "578.0",
         "Between 0 and 2500",
         "north"
        ],
        [
         "20",
         "21",
         "imola",
         "Autodromo Enzo e Dino Ferrari",
         "Imola",
         "Italy",
         "44.3439",
         "11.7167",
         "37",
         "http://en.wikipedia.org/wiki/Autodromo_Enzo_e_Dino_Ferrari",
         "37.0",
         "Between 0 and 2500",
         "north"
        ],
        [
         "21",
         "22",
         "suzuka",
         "Suzuka Circuit",
         "Suzuka",
         "Japan",
         "34.8431",
         "136.541",
         "45",
         "http://en.wikipedia.org/wiki/Suzuka_Circuit",
         "45.0",
         "Between 0 and 2500",
         "north"
        ],
        [
         "22",
         "80",
         "vegas",
         "Las Vegas Strip Street Circuit",
         "Las Vegas",
         "United States",
         "36.1147",
         "-115.173",
         null,
         "https://en.wikipedia.org/wiki/Las_Vegas_Grand_Prix#Circuit",
         null,
         null,
         "north"
        ],
        [
         "23",
         "24",
         "yas_marina",
         "Yas Marina Circuit",
         "Abu Dhabi",
         "UAE",
         "24.4672",
         "54.6031",
         "3",
         "http://en.wikipedia.org/wiki/Yas_Marina_Circuit",
         "3.0",
         "Between 0 and 2500",
         "north"
        ],
        [
         "24",
         "25",
         "galvez",
         "Autódromo Juan y Oscar Gálvez",
         "Buenos Aires",
         "Argentina",
         "-34.6943",
         "-58.4593",
         "8",
         "http://en.wikipedia.org/wiki/Aut%C3%B3dromo_Oscar_Alfredo_G%C3%A1lvez",
         "8.0",
         "Between 0 and 2500",
         "south"
        ],
        [
         "25",
         "26",
         "jerez",
         "Circuito de Jerez",
         "Jerez de la Frontera",
         "Spain",
         "36.7083",
         "-6.03417",
         "37",
         "http://en.wikipedia.org/wiki/Circuito_Permanente_de_Jerez",
         "37.0",
         "Between 0 and 2500",
         "north"
        ],
        [
         "26",
         "27",
         "estoril",
         "Autódromo do Estoril",
         "Estoril",
         "Portugal",
         "38.7506",
         "-9.39417",
         "130",
         "http://en.wikipedia.org/wiki/Aut%C3%B3dromo_do_Estoril",
         "130.0",
         "Between 0 and 2500",
         "north"
        ],
        [
         "27",
         "28",
         "okayama",
         "Okayama International Circuit",
         "Okayama",
         "Japan",
         "34.915",
         "134.221",
         "266",
         "http://en.wikipedia.org/wiki/TI_Circuit",
         "266.0",
         "Between 0 and 2500",
         "north"
        ],
        [
         "28",
         "29",
         "adelaide",
         "Adelaide Street Circuit",
         "Adelaide",
         "Australia",
         "-34.9272",
         "138.617",
         "58",
         "http://en.wikipedia.org/wiki/Adelaide_Street_Circuit",
         "58.0",
         "Between 0 and 2500",
         "south"
        ],
        [
         "29",
         "30",
         "kyalami",
         "Kyalami",
         "Midrand",
         "South Africa",
         "-25.9894",
         "28.0767",
         "1460",
         "http://en.wikipedia.org/wiki/Kyalami",
         "1460.0",
         "Between 0 and 2500",
         "south"
        ],
        [
         "30",
         "31",
         "donington",
         "Donington Park",
         "Castle Donington",
         "UK",
         "52.8306",
         "-1.37528",
         "88",
         "http://en.wikipedia.org/wiki/Donington_Park",
         "88.0",
         "Between 0 and 2500",
         "north"
        ],
        [
         "31",
         "32",
         "rodriguez",
         "Autódromo Hermanos Rodríguez",
         "Mexico City",
         "Mexico",
         "19.4042",
         "-99.0907",
         "2227",
         "http://en.wikipedia.org/wiki/Aut%C3%B3dromo_Hermanos_Rodr%C3%ADguez",
         "2227.0",
         "Between 0 and 2500",
         "north"
        ],
        [
         "32",
         "33",
         "phoenix",
         "Phoenix street circuit",
         "Phoenix",
         "United States",
         "33.4479",
         "-112.075",
         "345",
         "http://en.wikipedia.org/wiki/Phoenix_street_circuit",
         "345.0",
         "Between 0 and 2500",
         "north"
        ],
        [
         "33",
         "34",
         "ricard",
         "Circuit Paul Ricard",
         "Le Castellet",
         "France",
         "43.2506",
         "5.79167",
         "432",
         "http://en.wikipedia.org/wiki/Paul_Ricard_Circuit",
         "432.0",
         "Between 0 and 2500",
         "north"
        ],
        [
         "34",
         "35",
         "yeongam",
         "Korean International Circuit",
         "Yeongam County",
         "Korea",
         "34.7333",
         "126.417",
         "0",
         "http://en.wikipedia.org/wiki/Korean_International_Circuit",
         "0.0",
         null,
         "north"
        ],
        [
         "35",
         "36",
         "jacarepagua",
         "Autódromo Internacional Nelson Piquet",
         "Rio de Janeiro",
         "Brazil",
         "-22.9756",
         "-43.395",
         "1126",
         "http://en.wikipedia.org/wiki/Aut%C3%B3dromo_Internacional_Nelson_Piquet",
         "1126.0",
         "Between 0 and 2500",
         "south"
        ],
        [
         "36",
         "37",
         "detroit",
         "Detroit Street Circuit",
         "Detroit",
         "United States",
         "42.3298",
         "-83.0401",
         "177",
         "http://en.wikipedia.org/wiki/Detroit_street_circuit",
         "177.0",
         "Between 0 and 2500",
         "north"
        ],
        [
         "37",
         "38",
         "brands_hatch",
         "Brands Hatch",
         "Kent",
         "UK",
         "51.3569",
         "0.263056",
         "145",
         "http://en.wikipedia.org/wiki/Brands_Hatch",
         "145.0",
         "Between 0 and 2500",
         "north"
        ],
        [
         "38",
         "39",
         "zandvoort",
         "Circuit Park Zandvoort",
         "Zandvoort",
         "Netherlands",
         "52.3888",
         "4.54092",
         "6",
         "http://en.wikipedia.org/wiki/Circuit_Zandvoort",
         "6.0",
         "Between 0 and 2500",
         "north"
        ],
        [
         "39",
         "40",
         "zolder",
         "Zolder",
         "Heusden-Zolder",
         "Belgium",
         "50.9894",
         "5.25694",
         "36",
         "http://en.wikipedia.org/wiki/Zolder",
         "36.0",
         "Between 0 and 2500",
         "north"
        ],
        [
         "40",
         "41",
         "dijon",
         "Dijon-Prenois",
         "Dijon",
         "France",
         "47.3625",
         "4.89913",
         "484",
         "http://en.wikipedia.org/wiki/Dijon-Prenois",
         "484.0",
         "Between 0 and 2500",
         "north"
        ],
        [
         "41",
         "42",
         "dallas",
         "Fair Park",
         "Dallas",
         "United States",
         "32.7774",
         "-96.7587",
         "139",
         "http://en.wikipedia.org/wiki/Fair_Park",
         "139.0",
         "Between 0 and 2500",
         "north"
        ],
        [
         "42",
         "43",
         "long_beach",
         "Long Beach",
         "California",
         "United States",
         "33.7651",
         "-118.189",
         "12",
         "http://en.wikipedia.org/wiki/Long_Beach,_California",
         "12.0",
         "Between 0 and 2500",
         "north"
        ],
        [
         "43",
         "44",
         "las_vegas",
         "Las Vegas Street Circuit",
         "Nevada",
         "United States",
         "36.1162",
         "-115.174",
         "639",
         "http://en.wikipedia.org/wiki/Las_Vegas_Street_Circuit",
         "639.0",
         "Between 0 and 2500",
         "north"
        ],
        [
         "44",
         "45",
         "jarama",
         "Jarama",
         "Madrid",
         "Spain",
         "40.6171",
         "-3.58558",
         "609",
         "http://en.wikipedia.org/wiki/Circuito_Permanente_Del_Jarama",
         "609.0",
         "Between 0 and 2500",
         "north"
        ],
        [
         "45",
         "46",
         "watkins_glen",
         "Watkins Glen",
         "New York State",
         "United States",
         "42.3369",
         "-76.9272",
         "485",
         "http://en.wikipedia.org/wiki/Watkins_Glen_International",
         "485.0",
         "Between 0 and 2500",
         "north"
        ],
        [
         "46",
         "47",
         "anderstorp",
         "Scandinavian Raceway",
         "Anderstorp",
         "Sweden",
         "57.2653",
         "13.6042",
         "153",
         "http://en.wikipedia.org/wiki/Scandinavian_Raceway",
         "153.0",
         "Between 0 and 2500",
         "north"
        ],
        [
         "47",
         "48",
         "mosport",
         "Mosport International Raceway",
         "Ontario",
         "Canada",
         "44.0481",
         "-78.6756",
         "332",
         "http://en.wikipedia.org/wiki/Mosport",
         "332.0",
         "Between 0 and 2500",
         "north"
        ],
        [
         "48",
         "49",
         "montjuic",
         "Montjuïc",
         "Barcelona",
         "Spain",
         "41.3664",
         "2.15167",
         "79",
         "http://en.wikipedia.org/wiki/Montju%C3%AFc_circuit",
         "79.0",
         "Between 0 and 2500",
         "north"
        ],
        [
         "49",
         "50",
         "nivelles",
         "Nivelles-Baulers",
         "Brussels",
         "Belgium",
         "50.6211",
         "4.32694",
         "139",
         "http://en.wikipedia.org/wiki/Nivelles-Baulers",
         "139.0",
         "Between 0 and 2500",
         "north"
        ]
       ],
       "shape": {
        "columns": 12,
        "rows": 77
       }
      },
      "text/html": [
       "<div>\n",
       "<style scoped>\n",
       "    .dataframe tbody tr th:only-of-type {\n",
       "        vertical-align: middle;\n",
       "    }\n",
       "\n",
       "    .dataframe tbody tr th {\n",
       "        vertical-align: top;\n",
       "    }\n",
       "\n",
       "    .dataframe thead th {\n",
       "        text-align: right;\n",
       "    }\n",
       "</style>\n",
       "<table border=\"1\" class=\"dataframe\">\n",
       "  <thead>\n",
       "    <tr style=\"text-align: right;\">\n",
       "      <th></th>\n",
       "      <th>circuitId</th>\n",
       "      <th>circuitRef</th>\n",
       "      <th>name</th>\n",
       "      <th>location</th>\n",
       "      <th>country</th>\n",
       "      <th>lat</th>\n",
       "      <th>lng</th>\n",
       "      <th>alt</th>\n",
       "      <th>url</th>\n",
       "      <th>alt_numeric</th>\n",
       "      <th>bins_alt</th>\n",
       "      <th>hemisphere</th>\n",
       "    </tr>\n",
       "  </thead>\n",
       "  <tbody>\n",
       "    <tr>\n",
       "      <th>0</th>\n",
       "      <td>1</td>\n",
       "      <td>albert_park</td>\n",
       "      <td>Albert Park Grand Prix Circuit</td>\n",
       "      <td>Melbourne</td>\n",
       "      <td>Australia</td>\n",
       "      <td>-37.84970</td>\n",
       "      <td>144.96800</td>\n",
       "      <td>10</td>\n",
       "      <td>http://en.wikipedia.org/wiki/Melbourne_Grand_P...</td>\n",
       "      <td>10.0</td>\n",
       "      <td>Between 0 and 2500</td>\n",
       "      <td>south</td>\n",
       "    </tr>\n",
       "    <tr>\n",
       "      <th>1</th>\n",
       "      <td>2</td>\n",
       "      <td>sepang</td>\n",
       "      <td>Sepang International Circuit</td>\n",
       "      <td>Kuala Lumpur</td>\n",
       "      <td>Malaysia</td>\n",
       "      <td>2.76083</td>\n",
       "      <td>101.73800</td>\n",
       "      <td>18</td>\n",
       "      <td>http://en.wikipedia.org/wiki/Sepang_Internatio...</td>\n",
       "      <td>18.0</td>\n",
       "      <td>Between 0 and 2500</td>\n",
       "      <td>north</td>\n",
       "    </tr>\n",
       "    <tr>\n",
       "      <th>2</th>\n",
       "      <td>3</td>\n",
       "      <td>bahrain</td>\n",
       "      <td>Bahrain International Circuit</td>\n",
       "      <td>Sakhir</td>\n",
       "      <td>Bahrain</td>\n",
       "      <td>26.03250</td>\n",
       "      <td>50.51060</td>\n",
       "      <td>7</td>\n",
       "      <td>http://en.wikipedia.org/wiki/Bahrain_Internati...</td>\n",
       "      <td>7.0</td>\n",
       "      <td>Between 0 and 2500</td>\n",
       "      <td>north</td>\n",
       "    </tr>\n",
       "    <tr>\n",
       "      <th>3</th>\n",
       "      <td>4</td>\n",
       "      <td>catalunya</td>\n",
       "      <td>Circuit de Barcelona-Catalunya</td>\n",
       "      <td>Montmeló</td>\n",
       "      <td>Spain</td>\n",
       "      <td>41.57000</td>\n",
       "      <td>2.26111</td>\n",
       "      <td>109</td>\n",
       "      <td>http://en.wikipedia.org/wiki/Circuit_de_Barcel...</td>\n",
       "      <td>109.0</td>\n",
       "      <td>Between 0 and 2500</td>\n",
       "      <td>north</td>\n",
       "    </tr>\n",
       "    <tr>\n",
       "      <th>4</th>\n",
       "      <td>5</td>\n",
       "      <td>istanbul</td>\n",
       "      <td>Istanbul Park</td>\n",
       "      <td>Istanbul</td>\n",
       "      <td>Turkey</td>\n",
       "      <td>40.95170</td>\n",
       "      <td>29.40500</td>\n",
       "      <td>130</td>\n",
       "      <td>http://en.wikipedia.org/wiki/Istanbul_Park</td>\n",
       "      <td>130.0</td>\n",
       "      <td>Between 0 and 2500</td>\n",
       "      <td>north</td>\n",
       "    </tr>\n",
       "    <tr>\n",
       "      <th>...</th>\n",
       "      <td>...</td>\n",
       "      <td>...</td>\n",
       "      <td>...</td>\n",
       "      <td>...</td>\n",
       "      <td>...</td>\n",
       "      <td>...</td>\n",
       "      <td>...</td>\n",
       "      <td>...</td>\n",
       "      <td>...</td>\n",
       "      <td>...</td>\n",
       "      <td>...</td>\n",
       "      <td>...</td>\n",
       "    </tr>\n",
       "    <tr>\n",
       "      <th>72</th>\n",
       "      <td>75</td>\n",
       "      <td>portimao</td>\n",
       "      <td>Autódromo Internacional do Algarve</td>\n",
       "      <td>Portimão</td>\n",
       "      <td>Portugal</td>\n",
       "      <td>37.22700</td>\n",
       "      <td>-8.62670</td>\n",
       "      <td>108</td>\n",
       "      <td>http://en.wikipedia.org/wiki/Algarve_Internati...</td>\n",
       "      <td>108.0</td>\n",
       "      <td>Between 0 and 2500</td>\n",
       "      <td>north</td>\n",
       "    </tr>\n",
       "    <tr>\n",
       "      <th>73</th>\n",
       "      <td>76</td>\n",
       "      <td>mugello</td>\n",
       "      <td>Autodromo Internazionale del Mugello</td>\n",
       "      <td>Mugello</td>\n",
       "      <td>Italy</td>\n",
       "      <td>43.99750</td>\n",
       "      <td>11.37190</td>\n",
       "      <td>255</td>\n",
       "      <td>http://en.wikipedia.org/wiki/Mugello_Circuit</td>\n",
       "      <td>255.0</td>\n",
       "      <td>Between 0 and 2500</td>\n",
       "      <td>north</td>\n",
       "    </tr>\n",
       "    <tr>\n",
       "      <th>74</th>\n",
       "      <td>77</td>\n",
       "      <td>jeddah</td>\n",
       "      <td>Jeddah Corniche Circuit</td>\n",
       "      <td>Jeddah</td>\n",
       "      <td>Saudi Arabia</td>\n",
       "      <td>21.63190</td>\n",
       "      <td>39.10440</td>\n",
       "      <td>15</td>\n",
       "      <td>http://en.wikipedia.org/wiki/Jeddah_Street_Cir...</td>\n",
       "      <td>15.0</td>\n",
       "      <td>Between 0 and 2500</td>\n",
       "      <td>north</td>\n",
       "    </tr>\n",
       "    <tr>\n",
       "      <th>75</th>\n",
       "      <td>78</td>\n",
       "      <td>losail</td>\n",
       "      <td>Losail International Circuit</td>\n",
       "      <td>Al Daayen</td>\n",
       "      <td>Qatar</td>\n",
       "      <td>25.49000</td>\n",
       "      <td>51.45420</td>\n",
       "      <td>NaN</td>\n",
       "      <td>http://en.wikipedia.org/wiki/Losail_Internatio...</td>\n",
       "      <td>NaN</td>\n",
       "      <td>NaN</td>\n",
       "      <td>north</td>\n",
       "    </tr>\n",
       "    <tr>\n",
       "      <th>76</th>\n",
       "      <td>79</td>\n",
       "      <td>miami</td>\n",
       "      <td>Miami International Autodrome</td>\n",
       "      <td>Miami</td>\n",
       "      <td>United States</td>\n",
       "      <td>25.95810</td>\n",
       "      <td>-80.23890</td>\n",
       "      <td>NaN</td>\n",
       "      <td>http://en.wikipedia.org/wiki/Miami_Internation...</td>\n",
       "      <td>NaN</td>\n",
       "      <td>NaN</td>\n",
       "      <td>north</td>\n",
       "    </tr>\n",
       "  </tbody>\n",
       "</table>\n",
       "<p>77 rows × 12 columns</p>\n",
       "</div>"
      ],
      "text/plain": [
       "    circuitId   circuitRef                                  name  \\\n",
       "0           1  albert_park        Albert Park Grand Prix Circuit   \n",
       "1           2       sepang          Sepang International Circuit   \n",
       "2           3      bahrain         Bahrain International Circuit   \n",
       "3           4    catalunya        Circuit de Barcelona-Catalunya   \n",
       "4           5     istanbul                         Istanbul Park   \n",
       "..        ...          ...                                   ...   \n",
       "72         75     portimao    Autódromo Internacional do Algarve   \n",
       "73         76      mugello  Autodromo Internazionale del Mugello   \n",
       "74         77       jeddah               Jeddah Corniche Circuit   \n",
       "75         78       losail          Losail International Circuit   \n",
       "76         79        miami         Miami International Autodrome   \n",
       "\n",
       "        location        country       lat        lng  alt  \\\n",
       "0      Melbourne      Australia -37.84970  144.96800   10   \n",
       "1   Kuala Lumpur       Malaysia   2.76083  101.73800   18   \n",
       "2         Sakhir        Bahrain  26.03250   50.51060    7   \n",
       "3       Montmeló          Spain  41.57000    2.26111  109   \n",
       "4       Istanbul         Turkey  40.95170   29.40500  130   \n",
       "..           ...            ...       ...        ...  ...   \n",
       "72      Portimão       Portugal  37.22700   -8.62670  108   \n",
       "73       Mugello          Italy  43.99750   11.37190  255   \n",
       "74        Jeddah   Saudi Arabia  21.63190   39.10440   15   \n",
       "75     Al Daayen          Qatar  25.49000   51.45420  NaN   \n",
       "76         Miami  United States  25.95810  -80.23890  NaN   \n",
       "\n",
       "                                                  url  alt_numeric  \\\n",
       "0   http://en.wikipedia.org/wiki/Melbourne_Grand_P...         10.0   \n",
       "1   http://en.wikipedia.org/wiki/Sepang_Internatio...         18.0   \n",
       "2   http://en.wikipedia.org/wiki/Bahrain_Internati...          7.0   \n",
       "3   http://en.wikipedia.org/wiki/Circuit_de_Barcel...        109.0   \n",
       "4          http://en.wikipedia.org/wiki/Istanbul_Park        130.0   \n",
       "..                                                ...          ...   \n",
       "72  http://en.wikipedia.org/wiki/Algarve_Internati...        108.0   \n",
       "73       http://en.wikipedia.org/wiki/Mugello_Circuit        255.0   \n",
       "74  http://en.wikipedia.org/wiki/Jeddah_Street_Cir...         15.0   \n",
       "75  http://en.wikipedia.org/wiki/Losail_Internatio...          NaN   \n",
       "76  http://en.wikipedia.org/wiki/Miami_Internation...          NaN   \n",
       "\n",
       "              bins_alt hemisphere  \n",
       "0   Between 0 and 2500      south  \n",
       "1   Between 0 and 2500      north  \n",
       "2   Between 0 and 2500      north  \n",
       "3   Between 0 and 2500      north  \n",
       "4   Between 0 and 2500      north  \n",
       "..                 ...        ...  \n",
       "72  Between 0 and 2500      north  \n",
       "73  Between 0 and 2500      north  \n",
       "74  Between 0 and 2500      north  \n",
       "75                 NaN      north  \n",
       "76                 NaN      north  \n",
       "\n",
       "[77 rows x 12 columns]"
      ]
     },
     "execution_count": 30,
     "metadata": {},
     "output_type": "execute_result"
    }
   ],
   "source": [
    "# Write your own code\n",
    "bins_lat = [-90, 0, 90]\n",
    "labels_ns = [\"south\", \"north\"]\n",
    "circuits[\"hemisphere\"] = pd.cut(circuits[\"lat\"],\n",
    "                                bins = bins_lat,\n",
    "                                right = True,\n",
    "                                labels = labels_ns)\n",
    "circuits"
   ]
  }
 ],
 "metadata": {
  "kernelspec": {
   "display_name": "base",
   "language": "python",
   "name": "python3"
  },
  "language_info": {
   "codemirror_mode": {
    "name": "ipython",
    "version": 3
   },
   "file_extension": ".py",
   "mimetype": "text/x-python",
   "name": "python",
   "nbconvert_exporter": "python",
   "pygments_lexer": "ipython3",
   "version": "3.12.4"
  },
  "orig_nbformat": 4,
  "vscode": {
   "interpreter": {
    "hash": "45fc1f684f6f416f40889115beff3ddf69879b64cf4bfee48cb72a61e9d15d1a"
   }
  }
 },
 "nbformat": 4,
 "nbformat_minor": 2
}
