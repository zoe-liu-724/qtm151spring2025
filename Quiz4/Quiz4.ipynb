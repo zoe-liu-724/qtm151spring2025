{
 "cells": [
  {
   "attachments": {},
   "cell_type": "markdown",
   "metadata": {},
   "source": [
    "# <span style=\"color:darkblue\"> QTM 151 - Quiz 4 </span>"
   ]
  },
  {
   "attachments": {},
   "cell_type": "markdown",
   "metadata": {},
   "source": [
    "## Try to submit as an HTML file"
   ]
  },
  {
   "attachments": {},
   "cell_type": "markdown",
   "metadata": {},
   "source": [
    "<font size=\"5\"> \n",
    "\n",
    "Print your name below"
   ]
  },
  {
   "cell_type": "code",
   "execution_count": 49,
   "metadata": {},
   "outputs": [
    {
     "name": "stdout",
     "output_type": "stream",
     "text": [
      "Zoe Liu\n"
     ]
    }
   ],
   "source": [
    "# Write your answer here\n",
    "print(\"Zoe Liu\")"
   ]
  },
  {
   "attachments": {},
   "cell_type": "markdown",
   "metadata": {},
   "source": [
    "<font size = \"5\" >\n",
    "This quiz is open book \n",
    "\n",
    "- You can use the lecture notes\n",
    "- You will get partial credit for attempting the questions\n",
    "- To get full credit, the code should run as intended\n",
    "- You should <span style=\"color:red\"> NOT </span> communicate with other students\n",
    "\n",
    "Print the following message: <br>\n",
    "\n",
    "\"I will abide by Emory's code of conduct\"\n"
   ]
  },
  {
   "cell_type": "code",
   "execution_count": 50,
   "metadata": {},
   "outputs": [
    {
     "name": "stdout",
     "output_type": "stream",
     "text": [
      "I will abide by Emory's code of conduct\n"
     ]
    }
   ],
   "source": [
    "# Write your answer here:\n",
    "print(\"I will abide by Emory's code of conduct\")"
   ]
  },
  {
   "attachments": {},
   "cell_type": "markdown",
   "metadata": {},
   "source": [
    "<font size = \"5\">\n",
    "\n",
    "Import the libraries \"matplotlib.pyplot\" and \"pandas\""
   ]
  },
  {
   "cell_type": "code",
   "execution_count": 51,
   "metadata": {},
   "outputs": [],
   "source": [
    "# Write your answer here\n",
    "import matplotlib.pyplot as plt\n",
    "import pandas as pd"
   ]
  },
  {
   "attachments": {},
   "cell_type": "markdown",
   "metadata": {},
   "source": [
    "<font size = \"5\">\n",
    "\n",
    "In this quiz you will work with data on exchange rates, <br>\n",
    "for the following currencies:\n",
    "\n",
    "- 1 euro (EUR) to dollar (USD)\n",
    "- 1 pound (GPB) to dollar (USD)."
   ]
  },
  {
   "attachments": {},
   "cell_type": "markdown",
   "metadata": {},
   "source": [
    "\n",
    "<font size = \"5\">\n",
    "\n",
    "(a) Import and parse dates\n",
    "\n",
    "<font size = \"3\">\n",
    "\n",
    "- Import the dataset \"currencies.csv\"\n",
    "- Parse the \"date_string\" column with ```pd.to_datetime()```\n",
    "- To get full points, set the \"format\" option using wildcards as in Lecture 16.\n"
   ]
  },
  {
   "cell_type": "code",
   "execution_count": 52,
   "metadata": {},
   "outputs": [
    {
     "data": {
      "application/vnd.microsoft.datawrangler.viewer.v0+json": {
       "columns": [
        {
         "name": "index",
         "rawType": "int64",
         "type": "integer"
        },
        {
         "name": "date_string",
         "rawType": "object",
         "type": "string"
        },
        {
         "name": "eur_to_usd",
         "rawType": "float64",
         "type": "float"
        },
        {
         "name": "gbp_to_usd",
         "rawType": "float64",
         "type": "float"
        },
        {
         "name": "date",
         "rawType": "datetime64[ns]",
         "type": "datetime"
        }
       ],
       "conversionMethod": "pd.DataFrame",
       "ref": "356240a6-d73e-4bce-b3c7-b4447931c2a3",
       "rows": [
        [
         "0",
         "Monday, Jan 04, 1999",
         "1.6581",
         "1.1812",
         "1999-01-04 00:00:00"
        ],
        [
         "1",
         "Tuesday, Jan 05, 1999",
         "1.6566",
         "1.176",
         "1999-01-05 00:00:00"
        ],
        [
         "2",
         "Wednesday, Jan 06, 1999",
         "1.6547",
         "1.1636",
         "1999-01-06 00:00:00"
        ],
        [
         "3",
         "Thursday, Jan 07, 1999",
         "1.6495",
         "1.1672",
         "1999-01-07 00:00:00"
        ],
        [
         "4",
         "Friday, Jan 08, 1999",
         "1.6405",
         "1.1554",
         "1999-01-08 00:00:00"
        ],
        [
         "5",
         "Monday, Jan 11, 1999",
         "1.6375",
         "1.1534",
         "1999-01-11 00:00:00"
        ],
        [
         "6",
         "Tuesday, Jan 12, 1999",
         "1.6308",
         "1.1548",
         "1999-01-12 00:00:00"
        ],
        [
         "7",
         "Wednesday, Jan 13, 1999",
         "1.6493",
         "1.1698",
         "1999-01-13 00:00:00"
        ],
        [
         "8",
         "Thursday, Jan 14, 1999",
         "1.653",
         "1.1689",
         "1999-01-14 00:00:00"
        ],
        [
         "9",
         "Friday, Jan 15, 1999",
         "1.65",
         "1.1591",
         "1999-01-15 00:00:00"
        ],
        [
         "10",
         "Monday, Jan 18, 1999",
         null,
         null,
         "1999-01-18 00:00:00"
        ],
        [
         "11",
         "Tuesday, Jan 19, 1999",
         "1.655",
         "1.161",
         "1999-01-19 00:00:00"
        ],
        [
         "12",
         "Wednesday, Jan 20, 1999",
         "1.6467",
         "1.1575",
         "1999-01-20 00:00:00"
        ],
        [
         "13",
         "Thursday, Jan 21, 1999",
         "1.6516",
         "1.1577",
         "1999-01-21 00:00:00"
        ],
        [
         "14",
         "Friday, Jan 22, 1999",
         "1.656",
         "1.1582",
         "1999-01-22 00:00:00"
        ],
        [
         "15",
         "Monday, Jan 25, 1999",
         "1.6563",
         "1.1566",
         "1999-01-25 00:00:00"
        ],
        [
         "16",
         "Tuesday, Jan 26, 1999",
         "1.6585",
         "1.1577",
         "1999-01-26 00:00:00"
        ],
        [
         "17",
         "Wednesday, Jan 27, 1999",
         "1.6485",
         "1.1481",
         "1999-01-27 00:00:00"
        ],
        [
         "18",
         "Thursday, Jan 28, 1999",
         "1.647",
         "1.1395",
         "1999-01-28 00:00:00"
        ],
        [
         "19",
         "Friday, Jan 29, 1999",
         "1.6457",
         "1.1371",
         "1999-01-29 00:00:00"
        ],
        [
         "20",
         "Monday, Feb 01, 1999",
         "1.641",
         "1.1303",
         "1999-02-01 00:00:00"
        ],
        [
         "21",
         "Tuesday, Feb 02, 1999",
         "1.643",
         "1.1328",
         "1999-02-02 00:00:00"
        ],
        [
         "22",
         "Wednesday, Feb 03, 1999",
         "1.6375",
         "1.1339",
         "1999-02-03 00:00:00"
        ],
        [
         "23",
         "Thursday, Feb 04, 1999",
         "1.6395",
         "1.1306",
         "1999-02-04 00:00:00"
        ],
        [
         "24",
         "Friday, Feb 05, 1999",
         "1.637",
         "1.1283",
         "1999-02-05 00:00:00"
        ],
        [
         "25",
         "Monday, Feb 08, 1999",
         "1.638",
         "1.1296",
         "1999-02-08 00:00:00"
        ],
        [
         "26",
         "Tuesday, Feb 09, 1999",
         "1.6355",
         "1.13",
         "1999-02-09 00:00:00"
        ],
        [
         "27",
         "Wednesday, Feb 10, 1999",
         "1.629",
         "1.1331",
         "1999-02-10 00:00:00"
        ],
        [
         "28",
         "Thursday, Feb 11, 1999",
         "1.6244",
         "1.1303",
         "1999-02-11 00:00:00"
        ],
        [
         "29",
         "Friday, Feb 12, 1999",
         "1.6311",
         "1.1282",
         "1999-02-12 00:00:00"
        ],
        [
         "30",
         "Monday, Feb 15, 1999",
         null,
         null,
         "1999-02-15 00:00:00"
        ],
        [
         "31",
         "Tuesday, Feb 16, 1999",
         "1.6317",
         "1.1189",
         "1999-02-16 00:00:00"
        ],
        [
         "32",
         "Wednesday, Feb 17, 1999",
         "1.6338",
         "1.123",
         "1999-02-17 00:00:00"
        ],
        [
         "33",
         "Thursday, Feb 18, 1999",
         "1.6338",
         "1.1223",
         "1999-02-18 00:00:00"
        ],
        [
         "34",
         "Friday, Feb 19, 1999",
         "1.6255",
         "1.1075",
         "1999-02-19 00:00:00"
        ],
        [
         "35",
         "Monday, Feb 22, 1999",
         "1.6238",
         "1.1037",
         "1999-02-22 00:00:00"
        ],
        [
         "36",
         "Tuesday, Feb 23, 1999",
         "1.6138",
         "1.0993",
         "1999-02-23 00:00:00"
        ],
        [
         "37",
         "Wednesday, Feb 24, 1999",
         "1.598",
         "1.0972",
         "1999-02-24 00:00:00"
        ],
        [
         "38",
         "Thursday, Feb 25, 1999",
         "1.606",
         "1.1068",
         "1999-02-25 00:00:00"
        ],
        [
         "39",
         "Friday, Feb 26, 1999",
         "1.6027",
         "1.0995",
         "1999-02-26 00:00:00"
        ],
        [
         "40",
         "Monday, Mar 01, 1999",
         "1.6058",
         "1.0891",
         "1999-03-01 00:00:00"
        ],
        [
         "41",
         "Tuesday, Mar 02, 1999",
         "1.6135",
         "1.0931",
         "1999-03-02 00:00:00"
        ],
        [
         "42",
         "Wednesday, Mar 03, 1999",
         "1.6134",
         "1.0888",
         "1999-03-03 00:00:00"
        ],
        [
         "43",
         "Thursday, Mar 04, 1999",
         "1.6065",
         "1.0824",
         "1999-03-04 00:00:00"
        ],
        [
         "44",
         "Friday, Mar 05, 1999",
         "1.6073",
         "1.0843",
         "1999-03-05 00:00:00"
        ],
        [
         "45",
         "Monday, Mar 08, 1999",
         "1.6085",
         "1.0899",
         "1999-03-08 00:00:00"
        ],
        [
         "46",
         "Tuesday, Mar 09, 1999",
         "1.6148",
         "1.0873",
         "1999-03-09 00:00:00"
        ],
        [
         "47",
         "Wednesday, Mar 10, 1999",
         "1.6267",
         "1.0961",
         "1999-03-10 00:00:00"
        ],
        [
         "48",
         "Thursday, Mar 11, 1999",
         "1.627",
         "1.0932",
         "1999-03-11 00:00:00"
        ],
        [
         "49",
         "Friday, Mar 12, 1999",
         "1.6335",
         "1.0936",
         "1999-03-12 00:00:00"
        ]
       ],
       "shape": {
        "columns": 4,
        "rows": 6325
       }
      },
      "text/html": [
       "<div>\n",
       "<style scoped>\n",
       "    .dataframe tbody tr th:only-of-type {\n",
       "        vertical-align: middle;\n",
       "    }\n",
       "\n",
       "    .dataframe tbody tr th {\n",
       "        vertical-align: top;\n",
       "    }\n",
       "\n",
       "    .dataframe thead th {\n",
       "        text-align: right;\n",
       "    }\n",
       "</style>\n",
       "<table border=\"1\" class=\"dataframe\">\n",
       "  <thead>\n",
       "    <tr style=\"text-align: right;\">\n",
       "      <th></th>\n",
       "      <th>date_string</th>\n",
       "      <th>eur_to_usd</th>\n",
       "      <th>gbp_to_usd</th>\n",
       "      <th>date</th>\n",
       "    </tr>\n",
       "  </thead>\n",
       "  <tbody>\n",
       "    <tr>\n",
       "      <th>0</th>\n",
       "      <td>Monday, Jan 04, 1999</td>\n",
       "      <td>1.6581</td>\n",
       "      <td>1.1812</td>\n",
       "      <td>1999-01-04</td>\n",
       "    </tr>\n",
       "    <tr>\n",
       "      <th>1</th>\n",
       "      <td>Tuesday, Jan 05, 1999</td>\n",
       "      <td>1.6566</td>\n",
       "      <td>1.1760</td>\n",
       "      <td>1999-01-05</td>\n",
       "    </tr>\n",
       "    <tr>\n",
       "      <th>2</th>\n",
       "      <td>Wednesday, Jan 06, 1999</td>\n",
       "      <td>1.6547</td>\n",
       "      <td>1.1636</td>\n",
       "      <td>1999-01-06</td>\n",
       "    </tr>\n",
       "    <tr>\n",
       "      <th>3</th>\n",
       "      <td>Thursday, Jan 07, 1999</td>\n",
       "      <td>1.6495</td>\n",
       "      <td>1.1672</td>\n",
       "      <td>1999-01-07</td>\n",
       "    </tr>\n",
       "    <tr>\n",
       "      <th>4</th>\n",
       "      <td>Friday, Jan 08, 1999</td>\n",
       "      <td>1.6405</td>\n",
       "      <td>1.1554</td>\n",
       "      <td>1999-01-08</td>\n",
       "    </tr>\n",
       "    <tr>\n",
       "      <th>...</th>\n",
       "      <td>...</td>\n",
       "      <td>...</td>\n",
       "      <td>...</td>\n",
       "      <td>...</td>\n",
       "    </tr>\n",
       "    <tr>\n",
       "      <th>6320</th>\n",
       "      <td>Monday, Mar 27, 2023</td>\n",
       "      <td>1.2278</td>\n",
       "      <td>1.0789</td>\n",
       "      <td>2023-03-27</td>\n",
       "    </tr>\n",
       "    <tr>\n",
       "      <th>6321</th>\n",
       "      <td>Tuesday, Mar 28, 2023</td>\n",
       "      <td>1.2341</td>\n",
       "      <td>1.0844</td>\n",
       "      <td>2023-03-28</td>\n",
       "    </tr>\n",
       "    <tr>\n",
       "      <th>6322</th>\n",
       "      <td>Wednesday, Mar 29, 2023</td>\n",
       "      <td>1.2313</td>\n",
       "      <td>1.0826</td>\n",
       "      <td>2023-03-29</td>\n",
       "    </tr>\n",
       "    <tr>\n",
       "      <th>6323</th>\n",
       "      <td>Thursday, Mar 30, 2023</td>\n",
       "      <td>1.2368</td>\n",
       "      <td>1.0899</td>\n",
       "      <td>2023-03-30</td>\n",
       "    </tr>\n",
       "    <tr>\n",
       "      <th>6324</th>\n",
       "      <td>Friday, Mar 31, 2023</td>\n",
       "      <td>1.2369</td>\n",
       "      <td>1.0872</td>\n",
       "      <td>2023-03-31</td>\n",
       "    </tr>\n",
       "  </tbody>\n",
       "</table>\n",
       "<p>6325 rows × 4 columns</p>\n",
       "</div>"
      ],
      "text/plain": [
       "                  date_string  eur_to_usd  gbp_to_usd       date\n",
       "0        Monday, Jan 04, 1999      1.6581      1.1812 1999-01-04\n",
       "1       Tuesday, Jan 05, 1999      1.6566      1.1760 1999-01-05\n",
       "2     Wednesday, Jan 06, 1999      1.6547      1.1636 1999-01-06\n",
       "3      Thursday, Jan 07, 1999      1.6495      1.1672 1999-01-07\n",
       "4        Friday, Jan 08, 1999      1.6405      1.1554 1999-01-08\n",
       "...                       ...         ...         ...        ...\n",
       "6320     Monday, Mar 27, 2023      1.2278      1.0789 2023-03-27\n",
       "6321    Tuesday, Mar 28, 2023      1.2341      1.0844 2023-03-28\n",
       "6322  Wednesday, Mar 29, 2023      1.2313      1.0826 2023-03-29\n",
       "6323   Thursday, Mar 30, 2023      1.2368      1.0899 2023-03-30\n",
       "6324     Friday, Mar 31, 2023      1.2369      1.0872 2023-03-31\n",
       "\n",
       "[6325 rows x 4 columns]"
      ]
     },
     "execution_count": 52,
     "metadata": {},
     "output_type": "execute_result"
    }
   ],
   "source": [
    "# Write your own code\n",
    "currency = pd.read_csv(\"data_raw/currencies.csv\")\n",
    "currency[\"date\"] = pd.to_datetime(currency[\"date_string\"], format = \"%A, %b %d, %Y\")\n",
    "currency"
   ]
  },
  {
   "attachments": {},
   "cell_type": "markdown",
   "metadata": {},
   "source": [
    "<font size = \"5\">\n",
    "\n",
    "(b) Plot multiple time series\n",
    "\n",
    "<font size = \"3\">\n",
    "\n",
    "- Create a line plot plot which has the \"gbp_to_usd\" and \"eur_to_usd\" on the y-axis <br>\n",
    "and the date on the x-axis\n",
    "- Label the x-axis, the y-axis, and the title\n",
    "- Add a legend and set the names to \"1 Euro to USD\" and \"1 GPB to USD\"\n",
    "\n",
    "Hint: See Lecture 18 for how to plot multiple columns <br>\n",
    "Hint: Remember to include the legend names as a list ```[...]```\n"
   ]
  },
  {
   "cell_type": "code",
   "execution_count": 53,
   "metadata": {},
   "outputs": [
    {
     "data": {
      "text/plain": [
       "<matplotlib.legend.Legend at 0x138f8e0c0>"
      ]
     },
     "execution_count": 53,
     "metadata": {},
     "output_type": "execute_result"
    },
    {
     "data": {
      "image/png": "[encoded data removed]",
      "text/plain": [
       "<Figure size 640x480 with 1 Axes>"
      ]
     },
     "metadata": {},
     "output_type": "display_data"
    }
   ],
   "source": [
    "# Write your own code\n",
    "currency[[\"date\",\"gbp_to_usd\",\"eur_to_usd\"]].set_index(\"date\").plot()\n",
    "plt.xlabel(\"Date\")\n",
    "plt.ylabel(\"Value of Currencies\")\n",
    "plt.legend([\"1 GPB to USD\", \"1 EUR to USD\"])"
   ]
  },
  {
   "attachments": {},
   "cell_type": "markdown",
   "metadata": {},
   "source": [
    "<font size = \"5\">\n",
    "\n",
    "(c) Compute growth rates\n",
    "\n",
    "<font size = \"3\">\n",
    "\n",
    "- Calculate a new column \"growth_euro\" which computes the percentage daily <br>\n",
    "growth rate of \"eur_to_usd\".\n",
    "\n",
    "Hint: Use ```.diff()``` and ```.shift(1)```"
   ]
  },
  {
   "cell_type": "code",
   "execution_count": 54,
   "metadata": {},
   "outputs": [
    {
     "data": {
      "application/vnd.microsoft.datawrangler.viewer.v0+json": {
       "columns": [
        {
         "name": "index",
         "rawType": "int64",
         "type": "integer"
        },
        {
         "name": "date_string",
         "rawType": "object",
         "type": "string"
        },
        {
         "name": "eur_to_usd",
         "rawType": "float64",
         "type": "float"
        },
        {
         "name": "gbp_to_usd",
         "rawType": "float64",
         "type": "float"
        },
        {
         "name": "date",
         "rawType": "datetime64[ns]",
         "type": "datetime"
        },
        {
         "name": "growth_euro",
         "rawType": "float64",
         "type": "float"
        }
       ],
       "conversionMethod": "pd.DataFrame",
       "ref": "eed65847-3d74-45b0-916f-8f35936b1a58",
       "rows": [
        [
         "0",
         "Monday, Jan 04, 1999",
         "1.6581",
         "1.1812",
         "1999-01-04 00:00:00",
         null
        ],
        [
         "1",
         "Tuesday, Jan 05, 1999",
         "1.6566",
         "1.176",
         "1999-01-05 00:00:00",
         "-0.09046499004884113"
        ],
        [
         "2",
         "Wednesday, Jan 06, 1999",
         "1.6547",
         "1.1636",
         "1999-01-06 00:00:00",
         "-0.11469274417481665"
        ],
        [
         "3",
         "Thursday, Jan 07, 1999",
         "1.6495",
         "1.1672",
         "1999-01-07 00:00:00",
         "-0.3142563606696134"
        ],
        [
         "4",
         "Friday, Jan 08, 1999",
         "1.6405",
         "1.1554",
         "1999-01-08 00:00:00",
         "-0.5456198848135737"
        ],
        [
         "5",
         "Monday, Jan 11, 1999",
         "1.6375",
         "1.1534",
         "1999-01-11 00:00:00",
         "-0.18287107589150342"
        ],
        [
         "6",
         "Tuesday, Jan 12, 1999",
         "1.6308",
         "1.1548",
         "1999-01-12 00:00:00",
         "-0.40916030534350706"
        ],
        [
         "7",
         "Wednesday, Jan 13, 1999",
         "1.6493",
         "1.1698",
         "1999-01-13 00:00:00",
         "1.1344125582536155"
        ],
        [
         "8",
         "Thursday, Jan 14, 1999",
         "1.653",
         "1.1689",
         "1999-01-14 00:00:00",
         "0.22433759776875262"
        ],
        [
         "9",
         "Friday, Jan 15, 1999",
         "1.65",
         "1.1591",
         "1999-01-15 00:00:00",
         "-0.18148820326679452"
        ],
        [
         "10",
         "Monday, Jan 18, 1999",
         null,
         null,
         "1999-01-18 00:00:00",
         null
        ],
        [
         "11",
         "Tuesday, Jan 19, 1999",
         "1.655",
         "1.161",
         "1999-01-19 00:00:00",
         null
        ],
        [
         "12",
         "Wednesday, Jan 20, 1999",
         "1.6467",
         "1.1575",
         "1999-01-20 00:00:00",
         "-0.5015105740181253"
        ],
        [
         "13",
         "Thursday, Jan 21, 1999",
         "1.6516",
         "1.1577",
         "1999-01-21 00:00:00",
         "0.29756482662293704"
        ],
        [
         "14",
         "Friday, Jan 22, 1999",
         "1.656",
         "1.1582",
         "1999-01-22 00:00:00",
         "0.26640833131508596"
        ],
        [
         "15",
         "Monday, Jan 25, 1999",
         "1.6563",
         "1.1566",
         "1999-01-25 00:00:00",
         "0.018115942028996922"
        ],
        [
         "16",
         "Tuesday, Jan 26, 1999",
         "1.6585",
         "1.1577",
         "1999-01-26 00:00:00",
         "0.1328261788323359"
        ],
        [
         "17",
         "Wednesday, Jan 27, 1999",
         "1.6485",
         "1.1481",
         "1999-01-27 00:00:00",
         "-0.6029544769369918"
        ],
        [
         "18",
         "Thursday, Jan 28, 1999",
         "1.647",
         "1.1395",
         "1999-01-28 00:00:00",
         "-0.0909918107370371"
        ],
        [
         "19",
         "Friday, Jan 29, 1999",
         "1.6457",
         "1.1371",
         "1999-01-29 00:00:00",
         "-0.07893139040680502"
        ],
        [
         "20",
         "Monday, Feb 01, 1999",
         "1.641",
         "1.1303",
         "1999-02-01 00:00:00",
         "-0.28559275688156566"
        ],
        [
         "21",
         "Tuesday, Feb 02, 1999",
         "1.643",
         "1.1328",
         "1999-02-02 00:00:00",
         "0.12187690432663022"
        ],
        [
         "22",
         "Wednesday, Feb 03, 1999",
         "1.6375",
         "1.1339",
         "1999-02-03 00:00:00",
         "-0.3347534996956823"
        ],
        [
         "23",
         "Thursday, Feb 04, 1999",
         "1.6395",
         "1.1306",
         "1999-02-04 00:00:00",
         "0.12213740458015278"
        ],
        [
         "24",
         "Friday, Feb 05, 1999",
         "1.637",
         "1.1283",
         "1999-02-05 00:00:00",
         "-0.1524855138761785"
        ],
        [
         "25",
         "Monday, Feb 08, 1999",
         "1.638",
         "1.1296",
         "1999-02-08 00:00:00",
         "0.06108735491752534"
        ],
        [
         "26",
         "Tuesday, Feb 09, 1999",
         "1.6355",
         "1.13",
         "1999-02-09 00:00:00",
         "-0.15262515262514936"
        ],
        [
         "27",
         "Wednesday, Feb 10, 1999",
         "1.629",
         "1.1331",
         "1999-02-10 00:00:00",
         "-0.3974319779883797"
        ],
        [
         "28",
         "Thursday, Feb 11, 1999",
         "1.6244",
         "1.1303",
         "1999-02-11 00:00:00",
         "-0.2823818293431515"
        ],
        [
         "29",
         "Friday, Feb 12, 1999",
         "1.6311",
         "1.1282",
         "1999-02-12 00:00:00",
         "0.4124599852253095"
        ],
        [
         "30",
         "Monday, Feb 15, 1999",
         null,
         null,
         "1999-02-15 00:00:00",
         null
        ],
        [
         "31",
         "Tuesday, Feb 16, 1999",
         "1.6317",
         "1.1189",
         "1999-02-16 00:00:00",
         null
        ],
        [
         "32",
         "Wednesday, Feb 17, 1999",
         "1.6338",
         "1.123",
         "1999-02-17 00:00:00",
         "0.12870012870012812"
        ],
        [
         "33",
         "Thursday, Feb 18, 1999",
         "1.6338",
         "1.1223",
         "1999-02-18 00:00:00",
         "0.0"
        ],
        [
         "34",
         "Friday, Feb 19, 1999",
         "1.6255",
         "1.1075",
         "1999-02-19 00:00:00",
         "-0.5080181172726145"
        ],
        [
         "35",
         "Monday, Feb 22, 1999",
         "1.6238",
         "1.1037",
         "1999-02-22 00:00:00",
         "-0.10458320516764288"
        ],
        [
         "36",
         "Tuesday, Feb 23, 1999",
         "1.6138",
         "1.0993",
         "1999-02-23 00:00:00",
         "-0.6158393890873266"
        ],
        [
         "37",
         "Wednesday, Feb 24, 1999",
         "1.598",
         "1.0972",
         "1999-02-24 00:00:00",
         "-0.9790556450613344"
        ],
        [
         "38",
         "Thursday, Feb 25, 1999",
         "1.606",
         "1.1068",
         "1999-02-25 00:00:00",
         "0.5006257822277852"
        ],
        [
         "39",
         "Friday, Feb 26, 1999",
         "1.6027",
         "1.0995",
         "1999-02-26 00:00:00",
         "-0.20547945205479953"
        ],
        [
         "40",
         "Monday, Mar 01, 1999",
         "1.6058",
         "1.0891",
         "1999-03-01 00:00:00",
         "0.19342359767890938"
        ],
        [
         "41",
         "Tuesday, Mar 02, 1999",
         "1.6135",
         "1.0931",
         "1999-03-02 00:00:00",
         "0.47951176983435306"
        ],
        [
         "42",
         "Wednesday, Mar 03, 1999",
         "1.6134",
         "1.0888",
         "1999-03-03 00:00:00",
         "-0.0061977068484653855"
        ],
        [
         "43",
         "Thursday, Mar 04, 1999",
         "1.6065",
         "1.0824",
         "1999-03-04 00:00:00",
         "-0.4276682781703177"
        ],
        [
         "44",
         "Friday, Mar 05, 1999",
         "1.6073",
         "1.0843",
         "1999-03-05 00:00:00",
         "0.0497976968565149"
        ],
        [
         "45",
         "Monday, Mar 08, 1999",
         "1.6085",
         "1.0899",
         "1999-03-08 00:00:00",
         "0.07465936663971194"
        ],
        [
         "46",
         "Tuesday, Mar 09, 1999",
         "1.6148",
         "1.0873",
         "1999-03-09 00:00:00",
         "0.39166925707180433"
        ],
        [
         "47",
         "Wednesday, Mar 10, 1999",
         "1.6267",
         "1.0961",
         "1999-03-10 00:00:00",
         "0.7369333663611606"
        ],
        [
         "48",
         "Thursday, Mar 11, 1999",
         "1.627",
         "1.0932",
         "1999-03-11 00:00:00",
         "0.018442245035960345"
        ],
        [
         "49",
         "Friday, Mar 12, 1999",
         "1.6335",
         "1.0936",
         "1999-03-12 00:00:00",
         "0.3995082974800215"
        ]
       ],
       "shape": {
        "columns": 5,
        "rows": 6325
       }
      },
      "text/html": [
       "<div>\n",
       "<style scoped>\n",
       "    .dataframe tbody tr th:only-of-type {\n",
       "        vertical-align: middle;\n",
       "    }\n",
       "\n",
       "    .dataframe tbody tr th {\n",
       "        vertical-align: top;\n",
       "    }\n",
       "\n",
       "    .dataframe thead th {\n",
       "        text-align: right;\n",
       "    }\n",
       "</style>\n",
       "<table border=\"1\" class=\"dataframe\">\n",
       "  <thead>\n",
       "    <tr style=\"text-align: right;\">\n",
       "      <th></th>\n",
       "      <th>date_string</th>\n",
       "      <th>eur_to_usd</th>\n",
       "      <th>gbp_to_usd</th>\n",
       "      <th>date</th>\n",
       "      <th>growth_euro</th>\n",
       "    </tr>\n",
       "  </thead>\n",
       "  <tbody>\n",
       "    <tr>\n",
       "      <th>0</th>\n",
       "      <td>Monday, Jan 04, 1999</td>\n",
       "      <td>1.6581</td>\n",
       "      <td>1.1812</td>\n",
       "      <td>1999-01-04</td>\n",
       "      <td>NaN</td>\n",
       "    </tr>\n",
       "    <tr>\n",
       "      <th>1</th>\n",
       "      <td>Tuesday, Jan 05, 1999</td>\n",
       "      <td>1.6566</td>\n",
       "      <td>1.1760</td>\n",
       "      <td>1999-01-05</td>\n",
       "      <td>-0.090465</td>\n",
       "    </tr>\n",
       "    <tr>\n",
       "      <th>2</th>\n",
       "      <td>Wednesday, Jan 06, 1999</td>\n",
       "      <td>1.6547</td>\n",
       "      <td>1.1636</td>\n",
       "      <td>1999-01-06</td>\n",
       "      <td>-0.114693</td>\n",
       "    </tr>\n",
       "    <tr>\n",
       "      <th>3</th>\n",
       "      <td>Thursday, Jan 07, 1999</td>\n",
       "      <td>1.6495</td>\n",
       "      <td>1.1672</td>\n",
       "      <td>1999-01-07</td>\n",
       "      <td>-0.314256</td>\n",
       "    </tr>\n",
       "    <tr>\n",
       "      <th>4</th>\n",
       "      <td>Friday, Jan 08, 1999</td>\n",
       "      <td>1.6405</td>\n",
       "      <td>1.1554</td>\n",
       "      <td>1999-01-08</td>\n",
       "      <td>-0.545620</td>\n",
       "    </tr>\n",
       "    <tr>\n",
       "      <th>...</th>\n",
       "      <td>...</td>\n",
       "      <td>...</td>\n",
       "      <td>...</td>\n",
       "      <td>...</td>\n",
       "      <td>...</td>\n",
       "    </tr>\n",
       "    <tr>\n",
       "      <th>6320</th>\n",
       "      <td>Monday, Mar 27, 2023</td>\n",
       "      <td>1.2278</td>\n",
       "      <td>1.0789</td>\n",
       "      <td>2023-03-27</td>\n",
       "      <td>0.433538</td>\n",
       "    </tr>\n",
       "    <tr>\n",
       "      <th>6321</th>\n",
       "      <td>Tuesday, Mar 28, 2023</td>\n",
       "      <td>1.2341</td>\n",
       "      <td>1.0844</td>\n",
       "      <td>2023-03-28</td>\n",
       "      <td>0.513113</td>\n",
       "    </tr>\n",
       "    <tr>\n",
       "      <th>6322</th>\n",
       "      <td>Wednesday, Mar 29, 2023</td>\n",
       "      <td>1.2313</td>\n",
       "      <td>1.0826</td>\n",
       "      <td>2023-03-29</td>\n",
       "      <td>-0.226886</td>\n",
       "    </tr>\n",
       "    <tr>\n",
       "      <th>6323</th>\n",
       "      <td>Thursday, Mar 30, 2023</td>\n",
       "      <td>1.2368</td>\n",
       "      <td>1.0899</td>\n",
       "      <td>2023-03-30</td>\n",
       "      <td>0.446682</td>\n",
       "    </tr>\n",
       "    <tr>\n",
       "      <th>6324</th>\n",
       "      <td>Friday, Mar 31, 2023</td>\n",
       "      <td>1.2369</td>\n",
       "      <td>1.0872</td>\n",
       "      <td>2023-03-31</td>\n",
       "      <td>0.008085</td>\n",
       "    </tr>\n",
       "  </tbody>\n",
       "</table>\n",
       "<p>6325 rows × 5 columns</p>\n",
       "</div>"
      ],
      "text/plain": [
       "                  date_string  eur_to_usd  gbp_to_usd       date  growth_euro\n",
       "0        Monday, Jan 04, 1999      1.6581      1.1812 1999-01-04          NaN\n",
       "1       Tuesday, Jan 05, 1999      1.6566      1.1760 1999-01-05    -0.090465\n",
       "2     Wednesday, Jan 06, 1999      1.6547      1.1636 1999-01-06    -0.114693\n",
       "3      Thursday, Jan 07, 1999      1.6495      1.1672 1999-01-07    -0.314256\n",
       "4        Friday, Jan 08, 1999      1.6405      1.1554 1999-01-08    -0.545620\n",
       "...                       ...         ...         ...        ...          ...\n",
       "6320     Monday, Mar 27, 2023      1.2278      1.0789 2023-03-27     0.433538\n",
       "6321    Tuesday, Mar 28, 2023      1.2341      1.0844 2023-03-28     0.513113\n",
       "6322  Wednesday, Mar 29, 2023      1.2313      1.0826 2023-03-29    -0.226886\n",
       "6323   Thursday, Mar 30, 2023      1.2368      1.0899 2023-03-30     0.446682\n",
       "6324     Friday, Mar 31, 2023      1.2369      1.0872 2023-03-31     0.008085\n",
       "\n",
       "[6325 rows x 5 columns]"
      ]
     },
     "execution_count": 54,
     "metadata": {},
     "output_type": "execute_result"
    }
   ],
   "source": [
    "# Write your own code\n",
    "currency[\"growth_euro\"] = currency[\"eur_to_usd\"].diff()/currency[\"eur_to_usd\"].shift(1) * 100\n",
    "currency"
   ]
  },
  {
   "attachments": {},
   "cell_type": "markdown",
   "metadata": {},
   "source": [
    "<font size = \"5\">\n",
    "\n",
    "(d) Flag subset of data and plot\n",
    "\n",
    "<font size = \"3\">\n",
    "\n",
    "- Create a boolean colum (True/False) \"bool_cond\" which checks whether <br>\n",
    "\"growth_euro\" had a value greater than 2 or less than -2\n",
    "- Generate a line plot with the \"growth_euro\" series, label the axes and the title\n",
    "- Use the command ```plt.fill_between()``` as in Lecture 18 to create a shaded region <br>\n",
    "for time periods where \"bool_cond\" is true.\n",
    "\n"
   ]
  },
  {
   "cell_type": "code",
   "execution_count": 55,
   "metadata": {},
   "outputs": [
    {
     "data": {
      "application/vnd.microsoft.datawrangler.viewer.v0+json": {
       "columns": [
        {
         "name": "index",
         "rawType": "int64",
         "type": "integer"
        },
        {
         "name": "date_string",
         "rawType": "object",
         "type": "string"
        },
        {
         "name": "eur_to_usd",
         "rawType": "float64",
         "type": "float"
        },
        {
         "name": "gbp_to_usd",
         "rawType": "float64",
         "type": "float"
        },
        {
         "name": "date",
         "rawType": "datetime64[ns]",
         "type": "datetime"
        },
        {
         "name": "growth_euro",
         "rawType": "float64",
         "type": "float"
        },
        {
         "name": "bool_cond",
         "rawType": "bool",
         "type": "boolean"
        }
       ],
       "conversionMethod": "pd.DataFrame",
       "ref": "31b79cf1-4c90-4983-a327-ef7535ca7b7b",
       "rows": [
        [
         "0",
         "Monday, Jan 04, 1999",
         "1.6581",
         "1.1812",
         "1999-01-04 00:00:00",
         null,
         "False"
        ],
        [
         "1",
         "Tuesday, Jan 05, 1999",
         "1.6566",
         "1.176",
         "1999-01-05 00:00:00",
         "-0.09046499004884113",
         "False"
        ],
        [
         "2",
         "Wednesday, Jan 06, 1999",
         "1.6547",
         "1.1636",
         "1999-01-06 00:00:00",
         "-0.11469274417481665",
         "False"
        ],
        [
         "3",
         "Thursday, Jan 07, 1999",
         "1.6495",
         "1.1672",
         "1999-01-07 00:00:00",
         "-0.3142563606696134",
         "False"
        ],
        [
         "4",
         "Friday, Jan 08, 1999",
         "1.6405",
         "1.1554",
         "1999-01-08 00:00:00",
         "-0.5456198848135737",
         "False"
        ],
        [
         "5",
         "Monday, Jan 11, 1999",
         "1.6375",
         "1.1534",
         "1999-01-11 00:00:00",
         "-0.18287107589150342",
         "False"
        ],
        [
         "6",
         "Tuesday, Jan 12, 1999",
         "1.6308",
         "1.1548",
         "1999-01-12 00:00:00",
         "-0.40916030534350706",
         "False"
        ],
        [
         "7",
         "Wednesday, Jan 13, 1999",
         "1.6493",
         "1.1698",
         "1999-01-13 00:00:00",
         "1.1344125582536155",
         "False"
        ],
        [
         "8",
         "Thursday, Jan 14, 1999",
         "1.653",
         "1.1689",
         "1999-01-14 00:00:00",
         "0.22433759776875262",
         "False"
        ],
        [
         "9",
         "Friday, Jan 15, 1999",
         "1.65",
         "1.1591",
         "1999-01-15 00:00:00",
         "-0.18148820326679452",
         "False"
        ],
        [
         "10",
         "Monday, Jan 18, 1999",
         null,
         null,
         "1999-01-18 00:00:00",
         null,
         "False"
        ],
        [
         "11",
         "Tuesday, Jan 19, 1999",
         "1.655",
         "1.161",
         "1999-01-19 00:00:00",
         null,
         "False"
        ],
        [
         "12",
         "Wednesday, Jan 20, 1999",
         "1.6467",
         "1.1575",
         "1999-01-20 00:00:00",
         "-0.5015105740181253",
         "False"
        ],
        [
         "13",
         "Thursday, Jan 21, 1999",
         "1.6516",
         "1.1577",
         "1999-01-21 00:00:00",
         "0.29756482662293704",
         "False"
        ],
        [
         "14",
         "Friday, Jan 22, 1999",
         "1.656",
         "1.1582",
         "1999-01-22 00:00:00",
         "0.26640833131508596",
         "False"
        ],
        [
         "15",
         "Monday, Jan 25, 1999",
         "1.6563",
         "1.1566",
         "1999-01-25 00:00:00",
         "0.018115942028996922",
         "False"
        ],
        [
         "16",
         "Tuesday, Jan 26, 1999",
         "1.6585",
         "1.1577",
         "1999-01-26 00:00:00",
         "0.1328261788323359",
         "False"
        ],
        [
         "17",
         "Wednesday, Jan 27, 1999",
         "1.6485",
         "1.1481",
         "1999-01-27 00:00:00",
         "-0.6029544769369918",
         "False"
        ],
        [
         "18",
         "Thursday, Jan 28, 1999",
         "1.647",
         "1.1395",
         "1999-01-28 00:00:00",
         "-0.0909918107370371",
         "False"
        ],
        [
         "19",
         "Friday, Jan 29, 1999",
         "1.6457",
         "1.1371",
         "1999-01-29 00:00:00",
         "-0.07893139040680502",
         "False"
        ],
        [
         "20",
         "Monday, Feb 01, 1999",
         "1.641",
         "1.1303",
         "1999-02-01 00:00:00",
         "-0.28559275688156566",
         "False"
        ],
        [
         "21",
         "Tuesday, Feb 02, 1999",
         "1.643",
         "1.1328",
         "1999-02-02 00:00:00",
         "0.12187690432663022",
         "False"
        ],
        [
         "22",
         "Wednesday, Feb 03, 1999",
         "1.6375",
         "1.1339",
         "1999-02-03 00:00:00",
         "-0.3347534996956823",
         "False"
        ],
        [
         "23",
         "Thursday, Feb 04, 1999",
         "1.6395",
         "1.1306",
         "1999-02-04 00:00:00",
         "0.12213740458015278",
         "False"
        ],
        [
         "24",
         "Friday, Feb 05, 1999",
         "1.637",
         "1.1283",
         "1999-02-05 00:00:00",
         "-0.1524855138761785",
         "False"
        ],
        [
         "25",
         "Monday, Feb 08, 1999",
         "1.638",
         "1.1296",
         "1999-02-08 00:00:00",
         "0.06108735491752534",
         "False"
        ],
        [
         "26",
         "Tuesday, Feb 09, 1999",
         "1.6355",
         "1.13",
         "1999-02-09 00:00:00",
         "-0.15262515262514936",
         "False"
        ],
        [
         "27",
         "Wednesday, Feb 10, 1999",
         "1.629",
         "1.1331",
         "1999-02-10 00:00:00",
         "-0.3974319779883797",
         "False"
        ],
        [
         "28",
         "Thursday, Feb 11, 1999",
         "1.6244",
         "1.1303",
         "1999-02-11 00:00:00",
         "-0.2823818293431515",
         "False"
        ],
        [
         "29",
         "Friday, Feb 12, 1999",
         "1.6311",
         "1.1282",
         "1999-02-12 00:00:00",
         "0.4124599852253095",
         "False"
        ],
        [
         "30",
         "Monday, Feb 15, 1999",
         null,
         null,
         "1999-02-15 00:00:00",
         null,
         "False"
        ],
        [
         "31",
         "Tuesday, Feb 16, 1999",
         "1.6317",
         "1.1189",
         "1999-02-16 00:00:00",
         null,
         "False"
        ],
        [
         "32",
         "Wednesday, Feb 17, 1999",
         "1.6338",
         "1.123",
         "1999-02-17 00:00:00",
         "0.12870012870012812",
         "False"
        ],
        [
         "33",
         "Thursday, Feb 18, 1999",
         "1.6338",
         "1.1223",
         "1999-02-18 00:00:00",
         "0.0",
         "False"
        ],
        [
         "34",
         "Friday, Feb 19, 1999",
         "1.6255",
         "1.1075",
         "1999-02-19 00:00:00",
         "-0.5080181172726145",
         "False"
        ],
        [
         "35",
         "Monday, Feb 22, 1999",
         "1.6238",
         "1.1037",
         "1999-02-22 00:00:00",
         "-0.10458320516764288",
         "False"
        ],
        [
         "36",
         "Tuesday, Feb 23, 1999",
         "1.6138",
         "1.0993",
         "1999-02-23 00:00:00",
         "-0.6158393890873266",
         "False"
        ],
        [
         "37",
         "Wednesday, Feb 24, 1999",
         "1.598",
         "1.0972",
         "1999-02-24 00:00:00",
         "-0.9790556450613344",
         "False"
        ],
        [
         "38",
         "Thursday, Feb 25, 1999",
         "1.606",
         "1.1068",
         "1999-02-25 00:00:00",
         "0.5006257822277852",
         "False"
        ],
        [
         "39",
         "Friday, Feb 26, 1999",
         "1.6027",
         "1.0995",
         "1999-02-26 00:00:00",
         "-0.20547945205479953",
         "False"
        ],
        [
         "40",
         "Monday, Mar 01, 1999",
         "1.6058",
         "1.0891",
         "1999-03-01 00:00:00",
         "0.19342359767890938",
         "False"
        ],
        [
         "41",
         "Tuesday, Mar 02, 1999",
         "1.6135",
         "1.0931",
         "1999-03-02 00:00:00",
         "0.47951176983435306",
         "False"
        ],
        [
         "42",
         "Wednesday, Mar 03, 1999",
         "1.6134",
         "1.0888",
         "1999-03-03 00:00:00",
         "-0.0061977068484653855",
         "False"
        ],
        [
         "43",
         "Thursday, Mar 04, 1999",
         "1.6065",
         "1.0824",
         "1999-03-04 00:00:00",
         "-0.4276682781703177",
         "False"
        ],
        [
         "44",
         "Friday, Mar 05, 1999",
         "1.6073",
         "1.0843",
         "1999-03-05 00:00:00",
         "0.0497976968565149",
         "False"
        ],
        [
         "45",
         "Monday, Mar 08, 1999",
         "1.6085",
         "1.0899",
         "1999-03-08 00:00:00",
         "0.07465936663971194",
         "False"
        ],
        [
         "46",
         "Tuesday, Mar 09, 1999",
         "1.6148",
         "1.0873",
         "1999-03-09 00:00:00",
         "0.39166925707180433",
         "False"
        ],
        [
         "47",
         "Wednesday, Mar 10, 1999",
         "1.6267",
         "1.0961",
         "1999-03-10 00:00:00",
         "0.7369333663611606",
         "False"
        ],
        [
         "48",
         "Thursday, Mar 11, 1999",
         "1.627",
         "1.0932",
         "1999-03-11 00:00:00",
         "0.018442245035960345",
         "False"
        ],
        [
         "49",
         "Friday, Mar 12, 1999",
         "1.6335",
         "1.0936",
         "1999-03-12 00:00:00",
         "0.3995082974800215",
         "False"
        ]
       ],
       "shape": {
        "columns": 6,
        "rows": 6325
       }
      },
      "text/html": [
       "<div>\n",
       "<style scoped>\n",
       "    .dataframe tbody tr th:only-of-type {\n",
       "        vertical-align: middle;\n",
       "    }\n",
       "\n",
       "    .dataframe tbody tr th {\n",
       "        vertical-align: top;\n",
       "    }\n",
       "\n",
       "    .dataframe thead th {\n",
       "        text-align: right;\n",
       "    }\n",
       "</style>\n",
       "<table border=\"1\" class=\"dataframe\">\n",
       "  <thead>\n",
       "    <tr style=\"text-align: right;\">\n",
       "      <th></th>\n",
       "      <th>date_string</th>\n",
       "      <th>eur_to_usd</th>\n",
       "      <th>gbp_to_usd</th>\n",
       "      <th>date</th>\n",
       "      <th>growth_euro</th>\n",
       "      <th>bool_cond</th>\n",
       "    </tr>\n",
       "  </thead>\n",
       "  <tbody>\n",
       "    <tr>\n",
       "      <th>0</th>\n",
       "      <td>Monday, Jan 04, 1999</td>\n",
       "      <td>1.6581</td>\n",
       "      <td>1.1812</td>\n",
       "      <td>1999-01-04</td>\n",
       "      <td>NaN</td>\n",
       "      <td>False</td>\n",
       "    </tr>\n",
       "    <tr>\n",
       "      <th>1</th>\n",
       "      <td>Tuesday, Jan 05, 1999</td>\n",
       "      <td>1.6566</td>\n",
       "      <td>1.1760</td>\n",
       "      <td>1999-01-05</td>\n",
       "      <td>-0.090465</td>\n",
       "      <td>False</td>\n",
       "    </tr>\n",
       "    <tr>\n",
       "      <th>2</th>\n",
       "      <td>Wednesday, Jan 06, 1999</td>\n",
       "      <td>1.6547</td>\n",
       "      <td>1.1636</td>\n",
       "      <td>1999-01-06</td>\n",
       "      <td>-0.114693</td>\n",
       "      <td>False</td>\n",
       "    </tr>\n",
       "    <tr>\n",
       "      <th>3</th>\n",
       "      <td>Thursday, Jan 07, 1999</td>\n",
       "      <td>1.6495</td>\n",
       "      <td>1.1672</td>\n",
       "      <td>1999-01-07</td>\n",
       "      <td>-0.314256</td>\n",
       "      <td>False</td>\n",
       "    </tr>\n",
       "    <tr>\n",
       "      <th>4</th>\n",
       "      <td>Friday, Jan 08, 1999</td>\n",
       "      <td>1.6405</td>\n",
       "      <td>1.1554</td>\n",
       "      <td>1999-01-08</td>\n",
       "      <td>-0.545620</td>\n",
       "      <td>False</td>\n",
       "    </tr>\n",
       "    <tr>\n",
       "      <th>...</th>\n",
       "      <td>...</td>\n",
       "      <td>...</td>\n",
       "      <td>...</td>\n",
       "      <td>...</td>\n",
       "      <td>...</td>\n",
       "      <td>...</td>\n",
       "    </tr>\n",
       "    <tr>\n",
       "      <th>6320</th>\n",
       "      <td>Monday, Mar 27, 2023</td>\n",
       "      <td>1.2278</td>\n",
       "      <td>1.0789</td>\n",
       "      <td>2023-03-27</td>\n",
       "      <td>0.433538</td>\n",
       "      <td>False</td>\n",
       "    </tr>\n",
       "    <tr>\n",
       "      <th>6321</th>\n",
       "      <td>Tuesday, Mar 28, 2023</td>\n",
       "      <td>1.2341</td>\n",
       "      <td>1.0844</td>\n",
       "      <td>2023-03-28</td>\n",
       "      <td>0.513113</td>\n",
       "      <td>False</td>\n",
       "    </tr>\n",
       "    <tr>\n",
       "      <th>6322</th>\n",
       "      <td>Wednesday, Mar 29, 2023</td>\n",
       "      <td>1.2313</td>\n",
       "      <td>1.0826</td>\n",
       "      <td>2023-03-29</td>\n",
       "      <td>-0.226886</td>\n",
       "      <td>False</td>\n",
       "    </tr>\n",
       "    <tr>\n",
       "      <th>6323</th>\n",
       "      <td>Thursday, Mar 30, 2023</td>\n",
       "      <td>1.2368</td>\n",
       "      <td>1.0899</td>\n",
       "      <td>2023-03-30</td>\n",
       "      <td>0.446682</td>\n",
       "      <td>False</td>\n",
       "    </tr>\n",
       "    <tr>\n",
       "      <th>6324</th>\n",
       "      <td>Friday, Mar 31, 2023</td>\n",
       "      <td>1.2369</td>\n",
       "      <td>1.0872</td>\n",
       "      <td>2023-03-31</td>\n",
       "      <td>0.008085</td>\n",
       "      <td>False</td>\n",
       "    </tr>\n",
       "  </tbody>\n",
       "</table>\n",
       "<p>6325 rows × 6 columns</p>\n",
       "</div>"
      ],
      "text/plain": [
       "                  date_string  eur_to_usd  gbp_to_usd       date  growth_euro  \\\n",
       "0        Monday, Jan 04, 1999      1.6581      1.1812 1999-01-04          NaN   \n",
       "1       Tuesday, Jan 05, 1999      1.6566      1.1760 1999-01-05    -0.090465   \n",
       "2     Wednesday, Jan 06, 1999      1.6547      1.1636 1999-01-06    -0.114693   \n",
       "3      Thursday, Jan 07, 1999      1.6495      1.1672 1999-01-07    -0.314256   \n",
       "4        Friday, Jan 08, 1999      1.6405      1.1554 1999-01-08    -0.545620   \n",
       "...                       ...         ...         ...        ...          ...   \n",
       "6320     Monday, Mar 27, 2023      1.2278      1.0789 2023-03-27     0.433538   \n",
       "6321    Tuesday, Mar 28, 2023      1.2341      1.0844 2023-03-28     0.513113   \n",
       "6322  Wednesday, Mar 29, 2023      1.2313      1.0826 2023-03-29    -0.226886   \n",
       "6323   Thursday, Mar 30, 2023      1.2368      1.0899 2023-03-30     0.446682   \n",
       "6324     Friday, Mar 31, 2023      1.2369      1.0872 2023-03-31     0.008085   \n",
       "\n",
       "      bool_cond  \n",
       "0         False  \n",
       "1         False  \n",
       "2         False  \n",
       "3         False  \n",
       "4         False  \n",
       "...         ...  \n",
       "6320      False  \n",
       "6321      False  \n",
       "6322      False  \n",
       "6323      False  \n",
       "6324      False  \n",
       "\n",
       "[6325 rows x 6 columns]"
      ]
     },
     "execution_count": 55,
     "metadata": {},
     "output_type": "execute_result"
    }
   ],
   "source": [
    "# Write your own code\n",
    "currency[\"bool_cond\"] = abs(currency[\"growth_euro\"]) > 2\n",
    "currency"
   ]
  },
  {
   "attachments": {},
   "cell_type": "markdown",
   "metadata": {},
   "source": [
    "<font size = \"5\">\n",
    "\n",
    "(e) Aggregate dataset by time period\n",
    "\n",
    "<font size = \"3\">\n",
    "\n",
    "- Create an object \"month_config\" that uses ```pd.Grouper()```, setting the key to <br>\n",
    "the column \"date\" and freq to \"m\" (month)\n",
    "- Follow the instructions in Lecture 16 to compute an aggregate dataset <br>\n",
    "by month which computes the standard deviation of \"eur_to_usd\"\n",
    "- Display the dataset\n",
    "\n",
    "\n"
   ]
  },
  {
   "cell_type": "code",
   "execution_count": 56,
   "metadata": {},
   "outputs": [
    {
     "name": "stderr",
     "output_type": "stream",
     "text": [
      "/var/folders/6x/kwy8nkz125d_dqcmxf5tngdr0000gp/T/ipykernel_91098/3445943459.py:2: FutureWarning: 'm' is deprecated and will be removed in a future version, please use 'ME' instead.\n",
      "  month_config = pd.Grouper(key='date', freq='m')\n"
     ]
    },
    {
     "data": {
      "application/vnd.microsoft.datawrangler.viewer.v0+json": {
       "columns": [
        {
         "name": "index",
         "rawType": "int64",
         "type": "integer"
        },
        {
         "name": "date",
         "rawType": "datetime64[ns]",
         "type": "datetime"
        },
        {
         "name": "eur_stdv",
         "rawType": "float64",
         "type": "float"
        }
       ],
       "conversionMethod": "pd.DataFrame",
       "ref": "144b6053-fab2-4a92-b424-03dc6ed6a17b",
       "rows": [
        [
         "0",
         "1999-01-31 00:00:00",
         "0.007345094237429891"
        ],
        [
         "1",
         "1999-02-28 00:00:00",
         "0.013344587355774892"
        ],
        [
         "2",
         "1999-03-31 00:00:00",
         "0.010474989977072231"
        ],
        [
         "3",
         "1999-04-30 00:00:00",
         "0.006172191861968522"
        ],
        [
         "4",
         "1999-05-31 00:00:00",
         "0.013045664736649275"
        ],
        [
         "5",
         "1999-06-30 00:00:00",
         "0.011404411692875609"
        ],
        [
         "6",
         "1999-07-31 00:00:00",
         "0.01841513740688037"
        ],
        [
         "7",
         "1999-08-31 00:00:00",
         "0.011267660500750568"
        ],
        [
         "8",
         "1999-09-30 00:00:00",
         "0.0155978295193364"
        ],
        [
         "9",
         "1999-10-31 00:00:00",
         "0.009536528111480246"
        ],
        [
         "10",
         "1999-11-30 00:00:00",
         "0.013381144432214808"
        ],
        [
         "11",
         "1999-12-31 00:00:00",
         "0.008523513165346866"
        ],
        [
         "12",
         "2000-01-31 00:00:00",
         "0.009778225003063001"
        ],
        [
         "13",
         "2000-02-29 00:00:00",
         "0.009843687531130104"
        ],
        [
         "14",
         "2000-03-31 00:00:00",
         "0.007342776289412858"
        ],
        [
         "15",
         "2000-04-30 00:00:00",
         "0.008822308744254381"
        ],
        [
         "16",
         "2000-05-31 00:00:00",
         "0.028342439076654093"
        ],
        [
         "17",
         "2000-06-30 00:00:00",
         "0.00821999462824103"
        ],
        [
         "18",
         "2000-07-31 00:00:00",
         "0.008540890807724603"
        ],
        [
         "19",
         "2000-08-31 00:00:00",
         "0.016477375793599022"
        ],
        [
         "20",
         "2000-09-30 00:00:00",
         "0.02589111816820596"
        ],
        [
         "21",
         "2000-10-31 00:00:00",
         "0.010080804484148007"
        ],
        [
         "22",
         "2000-11-30 00:00:00",
         "0.011939241022379773"
        ],
        [
         "23",
         "2000-12-31 00:00:00",
         "0.01891555402864349"
        ],
        [
         "24",
         "2001-01-31 00:00:00",
         "0.016040837764608087"
        ],
        [
         "25",
         "2001-02-28 00:00:00",
         "0.011456434132876536"
        ],
        [
         "26",
         "2001-03-31 00:00:00",
         "0.018272557073144978"
        ],
        [
         "27",
         "2001-04-30 00:00:00",
         "0.006080390025084139"
        ],
        [
         "28",
         "2001-05-31 00:00:00",
         "0.008062434938829376"
        ],
        [
         "29",
         "2001-06-30 00:00:00",
         "0.0135684157056713"
        ],
        [
         "30",
         "2001-07-31 00:00:00",
         "0.009926458151252732"
        ],
        [
         "31",
         "2001-08-31 00:00:00",
         "0.013361432019534774"
        ],
        [
         "32",
         "2001-09-30 00:00:00",
         "0.007704153874897989"
        ],
        [
         "33",
         "2001-10-31 00:00:00",
         "0.017191609249032763"
        ],
        [
         "34",
         "2001-11-30 00:00:00",
         "0.020096422829108562"
        ],
        [
         "35",
         "2001-12-31 00:00:00",
         "0.012831551368650426"
        ],
        [
         "36",
         "2002-01-31 00:00:00",
         "0.013431659472696554"
        ],
        [
         "37",
         "2002-02-28 00:00:00",
         "0.006875577594025254"
        ],
        [
         "38",
         "2002-03-31 00:00:00",
         "0.0035149544466329483"
        ],
        [
         "39",
         "2002-04-30 00:00:00",
         "0.008287506896695024"
        ],
        [
         "40",
         "2002-05-31 00:00:00",
         "0.004895604973029188"
        ],
        [
         "41",
         "2002-06-30 00:00:00",
         "0.023352724962151544"
        ],
        [
         "42",
         "2002-07-31 00:00:00",
         "0.018118725813594756"
        ],
        [
         "43",
         "2002-08-31 00:00:00",
         "0.014009511302197759"
        ],
        [
         "44",
         "2002-09-30 00:00:00",
         "0.007797509723927066"
        ],
        [
         "45",
         "2002-10-31 00:00:00",
         "0.00810835307632748"
        ],
        [
         "46",
         "2002-11-30 00:00:00",
         "0.014092364487271277"
        ],
        [
         "47",
         "2002-12-31 00:00:00",
         "0.015090476340741413"
        ],
        [
         "48",
         "2003-01-31 00:00:00",
         "0.016471504976488156"
        ],
        [
         "49",
         "2003-02-28 00:00:00",
         "0.02530887785433422"
        ]
       ],
       "shape": {
        "columns": 2,
        "rows": 291
       }
      },
      "text/html": [
       "<div>\n",
       "<style scoped>\n",
       "    .dataframe tbody tr th:only-of-type {\n",
       "        vertical-align: middle;\n",
       "    }\n",
       "\n",
       "    .dataframe tbody tr th {\n",
       "        vertical-align: top;\n",
       "    }\n",
       "\n",
       "    .dataframe thead th {\n",
       "        text-align: right;\n",
       "    }\n",
       "</style>\n",
       "<table border=\"1\" class=\"dataframe\">\n",
       "  <thead>\n",
       "    <tr style=\"text-align: right;\">\n",
       "      <th></th>\n",
       "      <th>date</th>\n",
       "      <th>eur_stdv</th>\n",
       "    </tr>\n",
       "  </thead>\n",
       "  <tbody>\n",
       "    <tr>\n",
       "      <th>0</th>\n",
       "      <td>1999-01-31</td>\n",
       "      <td>0.007345</td>\n",
       "    </tr>\n",
       "    <tr>\n",
       "      <th>1</th>\n",
       "      <td>1999-02-28</td>\n",
       "      <td>0.013345</td>\n",
       "    </tr>\n",
       "    <tr>\n",
       "      <th>2</th>\n",
       "      <td>1999-03-31</td>\n",
       "      <td>0.010475</td>\n",
       "    </tr>\n",
       "    <tr>\n",
       "      <th>3</th>\n",
       "      <td>1999-04-30</td>\n",
       "      <td>0.006172</td>\n",
       "    </tr>\n",
       "    <tr>\n",
       "      <th>4</th>\n",
       "      <td>1999-05-31</td>\n",
       "      <td>0.013046</td>\n",
       "    </tr>\n",
       "    <tr>\n",
       "      <th>...</th>\n",
       "      <td>...</td>\n",
       "      <td>...</td>\n",
       "    </tr>\n",
       "    <tr>\n",
       "      <th>286</th>\n",
       "      <td>2022-11-30</td>\n",
       "      <td>0.027308</td>\n",
       "    </tr>\n",
       "    <tr>\n",
       "      <th>287</th>\n",
       "      <td>2022-12-31</td>\n",
       "      <td>0.011389</td>\n",
       "    </tr>\n",
       "    <tr>\n",
       "      <th>288</th>\n",
       "      <td>2023-01-31</td>\n",
       "      <td>0.015046</td>\n",
       "    </tr>\n",
       "    <tr>\n",
       "      <th>289</th>\n",
       "      <td>2023-02-28</td>\n",
       "      <td>0.008972</td>\n",
       "    </tr>\n",
       "    <tr>\n",
       "      <th>290</th>\n",
       "      <td>2023-03-31</td>\n",
       "      <td>0.016246</td>\n",
       "    </tr>\n",
       "  </tbody>\n",
       "</table>\n",
       "<p>291 rows × 2 columns</p>\n",
       "</div>"
      ],
      "text/plain": [
       "          date  eur_stdv\n",
       "0   1999-01-31  0.007345\n",
       "1   1999-02-28  0.013345\n",
       "2   1999-03-31  0.010475\n",
       "3   1999-04-30  0.006172\n",
       "4   1999-05-31  0.013046\n",
       "..         ...       ...\n",
       "286 2022-11-30  0.027308\n",
       "287 2022-12-31  0.011389\n",
       "288 2023-01-31  0.015046\n",
       "289 2023-02-28  0.008972\n",
       "290 2023-03-31  0.016246\n",
       "\n",
       "[291 rows x 2 columns]"
      ]
     },
     "execution_count": 56,
     "metadata": {},
     "output_type": "execute_result"
    }
   ],
   "source": [
    "# Write your own code\n",
    "month_config = pd.Grouper(key='date', freq='m')\n",
    "currency.groupby(month_config).agg(eur_stdv = (\"eur_to_usd\", \"std\")).reset_index()"
   ]
  },
  {
   "attachments": {},
   "cell_type": "markdown",
   "metadata": {},
   "source": [
    "<font size = \"5\">\n",
    "\n",
    "(f) Convert a dataset to long format\n",
    "\n",
    "<font size = \"3\">\n",
    "\n",
    "- Convert the currencies dataset to long format using the following inputs\n",
    "\n",
    "```\n",
    "var_name   = \"type\",\n",
    "value_name = \"exchange_rate\",\n",
    "id_vars    = \"date\",\n",
    "value_vars = [\"eur_to_usd\",\"gbp_to_usd\"]\n",
    "```\n",
    "\n",
    "- Display the dataset\n",
    "\n",
    "Hint: See Lecture 18 for details on ```pd.melt()```"
   ]
  },
  {
   "cell_type": "code",
   "execution_count": 57,
   "metadata": {},
   "outputs": [
    {
     "data": {
      "application/vnd.microsoft.datawrangler.viewer.v0+json": {
       "columns": [
        {
         "name": "index",
         "rawType": "int64",
         "type": "integer"
        },
        {
         "name": "date",
         "rawType": "datetime64[ns]",
         "type": "datetime"
        },
        {
         "name": "type",
         "rawType": "object",
         "type": "string"
        },
        {
         "name": "exchange_rate",
         "rawType": "float64",
         "type": "float"
        }
       ],
       "conversionMethod": "pd.DataFrame",
       "ref": "70d43eb3-bd04-4393-a193-978ce10ac47e",
       "rows": [
        [
         "0",
         "1999-01-04 00:00:00",
         "eur_to_usd",
         "1.6581"
        ],
        [
         "1",
         "1999-01-05 00:00:00",
         "eur_to_usd",
         "1.6566"
        ],
        [
         "2",
         "1999-01-06 00:00:00",
         "eur_to_usd",
         "1.6547"
        ],
        [
         "3",
         "1999-01-07 00:00:00",
         "eur_to_usd",
         "1.6495"
        ],
        [
         "4",
         "1999-01-08 00:00:00",
         "eur_to_usd",
         "1.6405"
        ],
        [
         "5",
         "1999-01-11 00:00:00",
         "eur_to_usd",
         "1.6375"
        ],
        [
         "6",
         "1999-01-12 00:00:00",
         "eur_to_usd",
         "1.6308"
        ],
        [
         "7",
         "1999-01-13 00:00:00",
         "eur_to_usd",
         "1.6493"
        ],
        [
         "8",
         "1999-01-14 00:00:00",
         "eur_to_usd",
         "1.653"
        ],
        [
         "9",
         "1999-01-15 00:00:00",
         "eur_to_usd",
         "1.65"
        ],
        [
         "10",
         "1999-01-18 00:00:00",
         "eur_to_usd",
         null
        ],
        [
         "11",
         "1999-01-19 00:00:00",
         "eur_to_usd",
         "1.655"
        ],
        [
         "12",
         "1999-01-20 00:00:00",
         "eur_to_usd",
         "1.6467"
        ],
        [
         "13",
         "1999-01-21 00:00:00",
         "eur_to_usd",
         "1.6516"
        ],
        [
         "14",
         "1999-01-22 00:00:00",
         "eur_to_usd",
         "1.656"
        ],
        [
         "15",
         "1999-01-25 00:00:00",
         "eur_to_usd",
         "1.6563"
        ],
        [
         "16",
         "1999-01-26 00:00:00",
         "eur_to_usd",
         "1.6585"
        ],
        [
         "17",
         "1999-01-27 00:00:00",
         "eur_to_usd",
         "1.6485"
        ],
        [
         "18",
         "1999-01-28 00:00:00",
         "eur_to_usd",
         "1.647"
        ],
        [
         "19",
         "1999-01-29 00:00:00",
         "eur_to_usd",
         "1.6457"
        ],
        [
         "20",
         "1999-02-01 00:00:00",
         "eur_to_usd",
         "1.641"
        ],
        [
         "21",
         "1999-02-02 00:00:00",
         "eur_to_usd",
         "1.643"
        ],
        [
         "22",
         "1999-02-03 00:00:00",
         "eur_to_usd",
         "1.6375"
        ],
        [
         "23",
         "1999-02-04 00:00:00",
         "eur_to_usd",
         "1.6395"
        ],
        [
         "24",
         "1999-02-05 00:00:00",
         "eur_to_usd",
         "1.637"
        ],
        [
         "25",
         "1999-02-08 00:00:00",
         "eur_to_usd",
         "1.638"
        ],
        [
         "26",
         "1999-02-09 00:00:00",
         "eur_to_usd",
         "1.6355"
        ],
        [
         "27",
         "1999-02-10 00:00:00",
         "eur_to_usd",
         "1.629"
        ],
        [
         "28",
         "1999-02-11 00:00:00",
         "eur_to_usd",
         "1.6244"
        ],
        [
         "29",
         "1999-02-12 00:00:00",
         "eur_to_usd",
         "1.6311"
        ],
        [
         "30",
         "1999-02-15 00:00:00",
         "eur_to_usd",
         null
        ],
        [
         "31",
         "1999-02-16 00:00:00",
         "eur_to_usd",
         "1.6317"
        ],
        [
         "32",
         "1999-02-17 00:00:00",
         "eur_to_usd",
         "1.6338"
        ],
        [
         "33",
         "1999-02-18 00:00:00",
         "eur_to_usd",
         "1.6338"
        ],
        [
         "34",
         "1999-02-19 00:00:00",
         "eur_to_usd",
         "1.6255"
        ],
        [
         "35",
         "1999-02-22 00:00:00",
         "eur_to_usd",
         "1.6238"
        ],
        [
         "36",
         "1999-02-23 00:00:00",
         "eur_to_usd",
         "1.6138"
        ],
        [
         "37",
         "1999-02-24 00:00:00",
         "eur_to_usd",
         "1.598"
        ],
        [
         "38",
         "1999-02-25 00:00:00",
         "eur_to_usd",
         "1.606"
        ],
        [
         "39",
         "1999-02-26 00:00:00",
         "eur_to_usd",
         "1.6027"
        ],
        [
         "40",
         "1999-03-01 00:00:00",
         "eur_to_usd",
         "1.6058"
        ],
        [
         "41",
         "1999-03-02 00:00:00",
         "eur_to_usd",
         "1.6135"
        ],
        [
         "42",
         "1999-03-03 00:00:00",
         "eur_to_usd",
         "1.6134"
        ],
        [
         "43",
         "1999-03-04 00:00:00",
         "eur_to_usd",
         "1.6065"
        ],
        [
         "44",
         "1999-03-05 00:00:00",
         "eur_to_usd",
         "1.6073"
        ],
        [
         "45",
         "1999-03-08 00:00:00",
         "eur_to_usd",
         "1.6085"
        ],
        [
         "46",
         "1999-03-09 00:00:00",
         "eur_to_usd",
         "1.6148"
        ],
        [
         "47",
         "1999-03-10 00:00:00",
         "eur_to_usd",
         "1.6267"
        ],
        [
         "48",
         "1999-03-11 00:00:00",
         "eur_to_usd",
         "1.627"
        ],
        [
         "49",
         "1999-03-12 00:00:00",
         "eur_to_usd",
         "1.6335"
        ]
       ],
       "shape": {
        "columns": 3,
        "rows": 12650
       }
      },
      "text/html": [
       "<div>\n",
       "<style scoped>\n",
       "    .dataframe tbody tr th:only-of-type {\n",
       "        vertical-align: middle;\n",
       "    }\n",
       "\n",
       "    .dataframe tbody tr th {\n",
       "        vertical-align: top;\n",
       "    }\n",
       "\n",
       "    .dataframe thead th {\n",
       "        text-align: right;\n",
       "    }\n",
       "</style>\n",
       "<table border=\"1\" class=\"dataframe\">\n",
       "  <thead>\n",
       "    <tr style=\"text-align: right;\">\n",
       "      <th></th>\n",
       "      <th>date</th>\n",
       "      <th>type</th>\n",
       "      <th>exchange_rate</th>\n",
       "    </tr>\n",
       "  </thead>\n",
       "  <tbody>\n",
       "    <tr>\n",
       "      <th>0</th>\n",
       "      <td>1999-01-04</td>\n",
       "      <td>eur_to_usd</td>\n",
       "      <td>1.6581</td>\n",
       "    </tr>\n",
       "    <tr>\n",
       "      <th>1</th>\n",
       "      <td>1999-01-05</td>\n",
       "      <td>eur_to_usd</td>\n",
       "      <td>1.6566</td>\n",
       "    </tr>\n",
       "    <tr>\n",
       "      <th>2</th>\n",
       "      <td>1999-01-06</td>\n",
       "      <td>eur_to_usd</td>\n",
       "      <td>1.6547</td>\n",
       "    </tr>\n",
       "    <tr>\n",
       "      <th>3</th>\n",
       "      <td>1999-01-07</td>\n",
       "      <td>eur_to_usd</td>\n",
       "      <td>1.6495</td>\n",
       "    </tr>\n",
       "    <tr>\n",
       "      <th>4</th>\n",
       "      <td>1999-01-08</td>\n",
       "      <td>eur_to_usd</td>\n",
       "      <td>1.6405</td>\n",
       "    </tr>\n",
       "    <tr>\n",
       "      <th>...</th>\n",
       "      <td>...</td>\n",
       "      <td>...</td>\n",
       "      <td>...</td>\n",
       "    </tr>\n",
       "    <tr>\n",
       "      <th>12645</th>\n",
       "      <td>2023-03-27</td>\n",
       "      <td>gbp_to_usd</td>\n",
       "      <td>1.0789</td>\n",
       "    </tr>\n",
       "    <tr>\n",
       "      <th>12646</th>\n",
       "      <td>2023-03-28</td>\n",
       "      <td>gbp_to_usd</td>\n",
       "      <td>1.0844</td>\n",
       "    </tr>\n",
       "    <tr>\n",
       "      <th>12647</th>\n",
       "      <td>2023-03-29</td>\n",
       "      <td>gbp_to_usd</td>\n",
       "      <td>1.0826</td>\n",
       "    </tr>\n",
       "    <tr>\n",
       "      <th>12648</th>\n",
       "      <td>2023-03-30</td>\n",
       "      <td>gbp_to_usd</td>\n",
       "      <td>1.0899</td>\n",
       "    </tr>\n",
       "    <tr>\n",
       "      <th>12649</th>\n",
       "      <td>2023-03-31</td>\n",
       "      <td>gbp_to_usd</td>\n",
       "      <td>1.0872</td>\n",
       "    </tr>\n",
       "  </tbody>\n",
       "</table>\n",
       "<p>12650 rows × 3 columns</p>\n",
       "</div>"
      ],
      "text/plain": [
       "            date        type  exchange_rate\n",
       "0     1999-01-04  eur_to_usd         1.6581\n",
       "1     1999-01-05  eur_to_usd         1.6566\n",
       "2     1999-01-06  eur_to_usd         1.6547\n",
       "3     1999-01-07  eur_to_usd         1.6495\n",
       "4     1999-01-08  eur_to_usd         1.6405\n",
       "...          ...         ...            ...\n",
       "12645 2023-03-27  gbp_to_usd         1.0789\n",
       "12646 2023-03-28  gbp_to_usd         1.0844\n",
       "12647 2023-03-29  gbp_to_usd         1.0826\n",
       "12648 2023-03-30  gbp_to_usd         1.0899\n",
       "12649 2023-03-31  gbp_to_usd         1.0872\n",
       "\n",
       "[12650 rows x 3 columns]"
      ]
     },
     "execution_count": 57,
     "metadata": {},
     "output_type": "execute_result"
    }
   ],
   "source": [
    "# Write your own code\n",
    "currency_long = pd.melt(currency,\n",
    "                         var_name = \"type\",\n",
    "                         value_name = \"exchange_rate\",\n",
    "                         id_vars = \"date\",\n",
    "                         value_vars = [\"eur_to_usd\", \"gbp_to_usd\"])\n",
    "currency_long"
   ]
  }
 ],
 "metadata": {
  "kernelspec": {
   "display_name": "base",
   "language": "python",
   "name": "python3"
  },
  "language_info": {
   "codemirror_mode": {
    "name": "ipython",
    "version": 3
   },
   "file_extension": ".py",
   "mimetype": "text/x-python",
   "name": "python",
   "nbconvert_exporter": "python",
   "pygments_lexer": "ipython3",
   "version": "3.12.4"
  },
  "orig_nbformat": 4,
  "vscode": {
   "interpreter": {
    "hash": "45fc1f684f6f416f40889115beff3ddf69879b64cf4bfee48cb72a61e9d15d1a"
   }
  }
 },
 "nbformat": 4,
 "nbformat_minor": 2
}
